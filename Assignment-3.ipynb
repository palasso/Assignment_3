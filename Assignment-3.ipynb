{
 "cells": [
  {
   "cell_type": "markdown",
   "metadata": {},
   "source": [
    "# Assignment 3 - Exercise 10\n",
    "\n",
    "Daskalopoulos Ioannis (f3351805)<br>\n",
    "Ntouskas Fotios (f3351813)<br>\n",
    "Palassopoulos Vasileios (f3351814)<br>\n",
    "Spantouri Natalia (f3351817)<br>"
   ]
  },
  {
   "cell_type": "markdown",
   "metadata": {},
   "source": [
    "## Importing Libraries"
   ]
  },
  {
   "cell_type": "code",
   "execution_count": 1,
   "metadata": {},
   "outputs": [],
   "source": [
    "from numpy.random import seed\n",
    "seed(1)\n",
    "from tensorflow import set_random_seed\n",
    "set_random_seed(2)\n",
    "\n",
    "import os\n",
    "import glob\n",
    "import numpy as np\n",
    "import pandas as pd\n",
    "import matplotlib.pyplot as plt\n",
    "from sklearn.utils import shuffle\n",
    "import itertools\n",
    "from sklearn.model_selection import train_test_split\n",
    "from sklearn import preprocessing\n",
    "from sklearn.feature_extraction.text import TfidfVectorizer\n",
    "import pprint\n",
    "from sklearn.feature_selection import mutual_info_classif, SelectKBest\n",
    "\n",
    "#Get root folder, Extensions that will be read, Class Label\n",
    "def read_data(directory,file_extension,class_label):\n",
    "    \n",
    "    data = []\n",
    "    index = []\n",
    "    #Recursively read file paths starting from root directory, ending with the specisfied extension, 2 levels deep\n",
    "    for filename in glob.glob(directory+'/**/*'+file_extension, recursive=True):\n",
    "        email_content = \"\"                                                   #This is our email string\n",
    "        with open(filename, 'r',encoding='utf-8', errors='ignore') as email: #Open the file in the located file path\n",
    "            for line in email:                        #Read the email line by line and replace the tabs and new lines with space\n",
    "                line = line.replace('\\n', ' ')\n",
    "                line = line.replace('\\t', ' ')\n",
    "                email_content+= line                               #Append the line to the email string\n",
    "        email.close()                                              #Close the file\n",
    "        data.append({'text': email_content, 'label': class_label}) #Append a dictionary with email string and class label\n",
    "        index.append(filename)                                     #Append the path\n",
    "                    \n",
    "    return data,index"
   ]
  },
  {
   "cell_type": "markdown",
   "metadata": {},
   "source": [
    "## Reading Emails Recursively by Class"
   ]
  },
  {
   "cell_type": "code",
   "execution_count": 2,
   "metadata": {},
   "outputs": [
    {
     "data": {
      "text/html": [
       "<div>\n",
       "<style scoped>\n",
       "    .dataframe tbody tr th:only-of-type {\n",
       "        vertical-align: middle;\n",
       "    }\n",
       "\n",
       "    .dataframe tbody tr th {\n",
       "        vertical-align: top;\n",
       "    }\n",
       "\n",
       "    .dataframe thead th {\n",
       "        text-align: right;\n",
       "    }\n",
       "</style>\n",
       "<table border=\"1\" class=\"dataframe\">\n",
       "  <thead>\n",
       "    <tr style=\"text-align: right;\">\n",
       "      <th></th>\n",
       "      <th>label</th>\n",
       "      <th>text</th>\n",
       "    </tr>\n",
       "  </thead>\n",
       "  <tbody>\n",
       "    <tr>\n",
       "      <th>C:\\Users\\Nat\\Downloads\\Assignment_3-master\\Enron_dataset\\enron4\\spam\\1306.2004-05-29.GP.spam.txt</th>\n",
       "      <td>Spam</td>\n",
       "      <td>Subject: re : are you still online ? click here to be removed</td>\n",
       "    </tr>\n",
       "    <tr>\n",
       "      <th>C:\\Users\\Nat\\Downloads\\Assignment_3-master\\Enron_dataset\\enron4\\spam\\0347.2004-02-05.GP.spam.txt</th>\n",
       "      <td>Spam</td>\n",
       "      <td>Subject: hi if you are paying more than 3 . 6 % on your mortgage , we can save you money ! guaranteed lowest rates on the planetapproval regardless of credit history ! start saving todayshow me the lowest rates to stop receiving offers here</td>\n",
       "    </tr>\n",
       "    <tr>\n",
       "      <th>C:\\Users\\Nat\\Downloads\\Assignment_3-master\\Enron_dataset\\enron6\\spam\\2646.2005-01-11.BG.spam.txt</th>\n",
       "      <td>Spam</td>\n",
       "      <td>Subject: urgent hi , i hereby wish to inform you that i am interested to purchase your , pci cardteac cd - w 54 e cd - r / rw burner , sony sdt - 5000 dds 2 ( 4 / 8 gb ) dat drive , sony 15 cl dds dat cleaning tape . what is your best offer ? are you the real owner ? what is the condition ? payment will be by money order . dont worried yourself about the pick up . i will take care of that when payment is done . if its still available for sale , provide the details below with which the payment will be sent to . . . offeri look forward to read from you soonest . cheers _ _ _ _ _ _ _ _ _ _ _ _ _ _ _ _ _ _ _ _ _ _ _ _ _ _ _ _ _ _ _ _ _ _ _ _ _ _ _ _ _ _ _ _ _ _ _ _ _ _ do you yahoo ! ? tired of spam ? yahoo ! mail has the best spam protection around http : / / mail . yahoo . com</td>\n",
       "    </tr>\n",
       "    <tr>\n",
       "      <th>C:\\Users\\Nat\\Downloads\\Assignment_3-master\\Enron_dataset\\enron2\\ham\\3439.2000-11-27.kaminski.ham.txt</th>\n",
       "      <td>Ham</td>\n",
       "      <td>Subject: transmission roundtable meeting the meeting will be held on december 8 , 2000 from 11 : 30 am to 1 : 00 pm in conference room eb 19 cl . box lunches will be served . your choices are listed below : salads : roasted chicken cobb salad , grilled chicken caesar salad , classic chef salad sandwiches : turkey , roast beef , ham , chicken salad , tuna salad or club sandwich . served on homemade white or wheat bread please email your lunch choice to me by monday , december 4 , 2000 . thanks and regards , anita dupont</td>\n",
       "    </tr>\n",
       "    <tr>\n",
       "      <th>C:\\Users\\Nat\\Downloads\\Assignment_3-master\\Enron_dataset\\enron3\\ham\\4567.2001-12-13.kitchen.ham.txt</th>\n",
       "      <td>Ham</td>\n",
       "      <td>Subject: ask jeeves louise , for the record , ask jeeves was a better investment than enron ! - dan</td>\n",
       "    </tr>\n",
       "  </tbody>\n",
       "</table>\n",
       "</div>"
      ],
      "text/plain": [
       "                                                                                                     label  \\\n",
       "C:\\Users\\Nat\\Downloads\\Assignment_3-master\\Enron_dataset\\enron4\\spam\\1306.2004-05-29.GP.spam.txt      Spam   \n",
       "C:\\Users\\Nat\\Downloads\\Assignment_3-master\\Enron_dataset\\enron4\\spam\\0347.2004-02-05.GP.spam.txt      Spam   \n",
       "C:\\Users\\Nat\\Downloads\\Assignment_3-master\\Enron_dataset\\enron6\\spam\\2646.2005-01-11.BG.spam.txt      Spam   \n",
       "C:\\Users\\Nat\\Downloads\\Assignment_3-master\\Enron_dataset\\enron2\\ham\\3439.2000-11-27.kaminski.ham.txt   Ham   \n",
       "C:\\Users\\Nat\\Downloads\\Assignment_3-master\\Enron_dataset\\enron3\\ham\\4567.2001-12-13.kitchen.ham.txt    Ham   \n",
       "\n",
       "                                                                                                                                                                                                                                                                                                                                                                                                                                                                                                                                                                                                                                                                                                                                                                                                                                                                                                                   text  \n",
       "C:\\Users\\Nat\\Downloads\\Assignment_3-master\\Enron_dataset\\enron4\\spam\\1306.2004-05-29.GP.spam.txt                                                                                                                                                                                                                                                                                                                                                                                                                                                                                                                                                                                                                                                                                                                                                         Subject: re : are you still online ? click here to be removed   \n",
       "C:\\Users\\Nat\\Downloads\\Assignment_3-master\\Enron_dataset\\enron4\\spam\\0347.2004-02-05.GP.spam.txt                                                                                                                                                                                                                                                                                                                                                                                                                                                                                                                                                                      Subject: hi if you are paying more than 3 . 6 % on your mortgage , we can save you money ! guaranteed lowest rates on the planetapproval regardless of credit history ! start saving todayshow me the lowest rates to stop receiving offers here   \n",
       "C:\\Users\\Nat\\Downloads\\Assignment_3-master\\Enron_dataset\\enron6\\spam\\2646.2005-01-11.BG.spam.txt      Subject: urgent hi , i hereby wish to inform you that i am interested to purchase your , pci cardteac cd - w 54 e cd - r / rw burner , sony sdt - 5000 dds 2 ( 4 / 8 gb ) dat drive , sony 15 cl dds dat cleaning tape . what is your best offer ? are you the real owner ? what is the condition ? payment will be by money order . dont worried yourself about the pick up . i will take care of that when payment is done . if its still available for sale , provide the details below with which the payment will be sent to . . . offeri look forward to read from you soonest . cheers _ _ _ _ _ _ _ _ _ _ _ _ _ _ _ _ _ _ _ _ _ _ _ _ _ _ _ _ _ _ _ _ _ _ _ _ _ _ _ _ _ _ _ _ _ _ _ _ _ _ do you yahoo ! ? tired of spam ? yahoo ! mail has the best spam protection around http : / / mail . yahoo . com  \n",
       "C:\\Users\\Nat\\Downloads\\Assignment_3-master\\Enron_dataset\\enron2\\ham\\3439.2000-11-27.kaminski.ham.txt                                                                                                                                                                                                                                                                       Subject: transmission roundtable meeting the meeting will be held on december 8 , 2000 from 11 : 30 am to 1 : 00 pm in conference room eb 19 cl . box lunches will be served . your choices are listed below : salads : roasted chicken cobb salad , grilled chicken caesar salad , classic chef salad sandwiches : turkey , roast beef , ham , chicken salad , tuna salad or club sandwich . served on homemade white or wheat bread please email your lunch choice to me by monday , december 4 , 2000 . thanks and regards , anita dupont  \n",
       "C:\\Users\\Nat\\Downloads\\Assignment_3-master\\Enron_dataset\\enron3\\ham\\4567.2001-12-13.kitchen.ham.txt                                                                                                                                                                                                                                                                                                                                                                                                                                                                                                                                                                                                                                                                                                                 Subject: ask jeeves louise , for the record , ask jeeves was a better investment than enron ! - dan  "
      ]
     },
     "execution_count": 2,
     "metadata": {},
     "output_type": "execute_result"
    }
   ],
   "source": [
    "Enron_dataset_dir = os.getcwd() + \"\\\\Enron_dataset\" #Path\n",
    "Ham_data,index_hamdata = read_data(Enron_dataset_dir,\".ham.txt\",\"Ham\")           #Create array with Ham emails\n",
    "Spam_data,index_spamdata = read_data(Enron_dataset_dir,\".spam.txt\",\"Spam\")       #Create array with Spam emails\n",
    "data = pd.DataFrame(Ham_data,index =index_hamdata)                               #Make them a dataframe with their path as the index\n",
    "data = data.append(pd.DataFrame(Spam_data,index =index_spamdata))                #Append the spam data\n",
    "#shuffle dataframe      \n",
    "data = shuffle(data,random_state = 456987)                                       \n",
    "pd.set_option(\"max_colwidth\",2000)                                               #Set max columns to not overload Jupyter\n",
    "data.head()"
   ]
  },
  {
   "cell_type": "code",
   "execution_count": 3,
   "metadata": {},
   "outputs": [
    {
     "data": {
      "text/plain": [
       "Spam    17171\n",
       "Ham     16545\n",
       "Name: label, dtype: int64"
      ]
     },
     "execution_count": 3,
     "metadata": {},
     "output_type": "execute_result"
    }
   ],
   "source": [
    "data.shape\n",
    "data['label'].value_counts()"
   ]
  },
  {
   "cell_type": "markdown",
   "metadata": {},
   "source": [
    "## Splitting into Test, Held-out and Train sets"
   ]
  },
  {
   "cell_type": "code",
   "execution_count": 4,
   "metadata": {},
   "outputs": [],
   "source": [
    "train, heldout, test  = np.split(data, [int(.6*len(data)), int(.8*len(data))])"
   ]
  },
  {
   "cell_type": "code",
   "execution_count": 5,
   "metadata": {},
   "outputs": [],
   "source": [
    "x_train = list(itertools.chain.from_iterable(train[['text']].values.tolist())) #Extract x_train from the train set\n",
    "x_heldout = list(itertools.chain.from_iterable(heldout[['text']].values.tolist())) #Extract x_heldout from the heldout set\n",
    "x_test = list(itertools.chain.from_iterable(test[['text']].values.tolist()))   #Extract x_test from the test set"
   ]
  },
  {
   "cell_type": "code",
   "execution_count": 6,
   "metadata": {},
   "outputs": [],
   "source": [
    "y_train = list(itertools.chain.from_iterable(train[['label']].values.tolist())) #Extract training labels\n",
    "le = preprocessing.LabelEncoder()                                               #Initialize Labelencoder\n",
    "le.fit(y_train)                                                                 \n",
    "y_train = le.transform(y_train)                                                 #Y_train classes become 0 and 1\n",
    "y_heldout = le.transform(list(itertools.chain.from_iterable(heldout[['label']].values.tolist())))\n",
    "y_test = le.transform(list(itertools.chain.from_iterable(test[['label']].values.tolist()))) #Same for y_test"
   ]
  },
  {
   "cell_type": "markdown",
   "metadata": {},
   "source": [
    "## Converting n-grams into TF-IDF feature vectors"
   ]
  },
  {
   "cell_type": "code",
   "execution_count": 7,
   "metadata": {},
   "outputs": [],
   "source": [
    "vectorizer = TfidfVectorizer(ngram_range=(1, 2),max_features = 20000, sublinear_tf=True, stop_words='english', lowercase=True)\n",
    "\n",
    "X_train_tfidf = vectorizer.fit_transform(x_train)\n",
    "X_heldout_tfidf = vectorizer.transform(x_heldout)\n",
    "X_test_tfidf = vectorizer.transform(x_test)"
   ]
  },
  {
   "cell_type": "markdown",
   "metadata": {},
   "source": [
    "## Structuring Data Set"
   ]
  },
  {
   "cell_type": "code",
   "execution_count": 8,
   "metadata": {},
   "outputs": [],
   "source": [
    "data = {'x_train': X_train_tfidf, 'y_train': y_train,\n",
    "        'x_heldout': X_heldout_tfidf, 'y_heldout': y_heldout,\n",
    "        'x_test': X_test_tfidf, 'y_test': y_test,\n",
    "       'labels': [le.classes_[0],le.classes_[1]]}"
   ]
  },
  {
   "cell_type": "markdown",
   "metadata": {},
   "source": [
    "## Creating functions for recall, precision, f1 and accuracy scores"
   ]
  },
  {
   "cell_type": "code",
   "execution_count": 9,
   "metadata": {},
   "outputs": [],
   "source": [
    "def recall(y_true, y_pred):\n",
    "    true_positives = K.sum(K.round(K.clip(y_true * y_pred, 0, 1))) #Sum of our predictions\n",
    "    possible_positives = K.sum(K.round(K.clip(y_true, 0, 1)))      #Sum of total\n",
    "    recall = true_positives / (possible_positives + K.epsilon())\n",
    "    return recall\n",
    "\n",
    "\n",
    "def precision(y_true, y_pred):\n",
    "    true_positives = K.sum(K.round(K.clip(y_true * y_pred, 0, 1)))\n",
    "    predicted_positives = K.sum(K.round(K.clip(y_pred, 0, 1)))\n",
    "    precision = true_positives / (predicted_positives + K.epsilon())\n",
    "    return precision\n",
    "\n",
    "\n",
    "def f1(y_true, y_pred):\n",
    "    p = precision(y_true, y_pred)\n",
    "    r = recall(y_true, y_pred)\n",
    "    return 2 * ((p * r) / (p + r))\n",
    "\n",
    "\n",
    "def accuracy(y_true, y_pred):\n",
    "    return K.mean(K.equal(y_true, K.round(y_pred)), axis=1)\n"
   ]
  },
  {
   "cell_type": "markdown",
   "metadata": {},
   "source": [
    "## MLP - RandomizedSearchCV"
   ]
  },
  {
   "cell_type": "code",
   "execution_count": 10,
   "metadata": {},
   "outputs": [],
   "source": [
    "# Helper code chunck for clearing CUDA cores\n",
    "\n",
    "# from keras import backend as K\n",
    "# from numba import cuda\n",
    "# import gc\n",
    "\n",
    "# K.clear_session()\n",
    "# gc.collect()\n",
    "# cuda.select_device(0)\n",
    "# cuda.close()"
   ]
  },
  {
   "cell_type": "code",
   "execution_count": 11,
   "metadata": {},
   "outputs": [
    {
     "name": "stderr",
     "output_type": "stream",
     "text": [
      "Using TensorFlow backend.\n"
     ]
    }
   ],
   "source": [
    "from keras.optimizers import Adam,Nadam,RMSprop\n",
    "from sklearn.model_selection import RandomizedSearchCV\n",
    "from keras.wrappers.scikit_learn import KerasClassifier\n",
    "from keras.models import Sequential\n",
    "from keras.layers.core import Dense, Dropout\n",
    "import keras.backend as K\n",
    "import warnings\n",
    "import sklearn.exceptions\n",
    "warnings.filterwarnings(\"ignore\", category=sklearn.exceptions.UndefinedMetricWarning)\n",
    "warnings.simplefilter(action='ignore', category=FutureWarning)"
   ]
  },
  {
   "cell_type": "code",
   "execution_count": 12,
   "metadata": {},
   "outputs": [
    {
     "name": "stdout",
     "output_type": "stream",
     "text": [
      "Best: 0.990881 using {'input_layer_units': 256, 'hidden_layers': 1, 'dropout': 0.375, 'batch_size': 64}\n",
      "0.989378 (0.000216) with: {'input_layer_units': 256, 'hidden_layers': 2, 'dropout': 0.0, 'batch_size': 32}\n",
      "0.989307 (0.000064) with: {'input_layer_units': 512, 'hidden_layers': 2, 'dropout': 0.25, 'batch_size': 64}\n",
      "0.988725 (0.000228) with: {'input_layer_units': 512, 'hidden_layers': 2, 'dropout': 0.0, 'batch_size': 32}\n",
      "0.990819 (0.000604) with: {'input_layer_units': 512, 'hidden_layers': 1, 'dropout': 0.0, 'batch_size': 64}\n",
      "0.989965 (0.000164) with: {'input_layer_units': 512, 'hidden_layers': 2, 'dropout': 0.125, 'batch_size': 64}\n",
      "0.990329 (0.000101) with: {'input_layer_units': 512, 'hidden_layers': 1, 'dropout': 0.25, 'batch_size': 64}\n",
      "0.989374 (0.000310) with: {'input_layer_units': 256, 'hidden_layers': 2, 'dropout': 0.0, 'batch_size': 64}\n",
      "0.990429 (0.000892) with: {'input_layer_units': 512, 'hidden_layers': 2, 'dropout': 0.5, 'batch_size': 64}\n",
      "0.988933 (0.000761) with: {'input_layer_units': 512, 'hidden_layers': 2, 'dropout': 0.5, 'batch_size': 32}\n",
      "0.989630 (0.000837) with: {'input_layer_units': 256, 'hidden_layers': 2, 'dropout': 0.125, 'batch_size': 64}\n",
      "0.990881 (0.000258) with: {'input_layer_units': 256, 'hidden_layers': 1, 'dropout': 0.375, 'batch_size': 64}\n",
      "0.990353 (0.000728) with: {'input_layer_units': 512, 'hidden_layers': 1, 'dropout': 0.5, 'batch_size': 32}\n",
      "0.990248 (0.000910) with: {'input_layer_units': 256, 'hidden_layers': 2, 'dropout': 0.25, 'batch_size': 64}\n",
      "0.990781 (0.000756) with: {'input_layer_units': 256, 'hidden_layers': 1, 'dropout': 0.5, 'batch_size': 64}\n",
      "0.990398 (0.000188) with: {'input_layer_units': 512, 'hidden_layers': 1, 'dropout': 0.375, 'batch_size': 64}\n"
     ]
    }
   ],
   "source": [
    "def create_model(input_layer_units=512, hidden_layers=1, dropout=0.5, optimizer='adam'):\n",
    "    # create model\n",
    "    \n",
    "    model = Sequential()\n",
    "    model.add(Dense(input_layer_units, input_dim=data['x_train'].shape[1], activation='relu'))\n",
    "    model.add(Dropout(dropout))\n",
    "    \n",
    "    for i in range(hidden_layers):\n",
    "        input_layer_units = input_layer_units//2\n",
    "        model.add(Dense(input_layer_units,  activation='relu'))\n",
    "        model.add(Dropout(dropout))\n",
    "\n",
    "    model.add(Dense(1,  activation='sigmoid'))\n",
    "    model.compile(loss='binary_crossentropy', optimizer=optimizer, metrics=[f1])\n",
    "    return model\n",
    "\n",
    "model = KerasClassifier(build_fn=create_model, epochs=12, batch_size=10, verbose=0)\n",
    "\n",
    "# define the grid search parameters\n",
    "hyperparameters = {\n",
    "    'input_layer_units': [256, 512],\n",
    "    'hidden_layers' : np.arange(1,3,1),\n",
    "    'batch_size' : [32, 64],\n",
    "    'dropout' : np.linspace(0,0.5,5)\n",
    "}\n",
    "\n",
    "rnd_search = RandomizedSearchCV(model, hyperparameters, n_iter = 15, scoring='f1', cv=3, verbose=0, n_jobs=1)\n",
    "best_model = rnd_search.fit(data['x_train'],data['y_train'])\n",
    "# summarize results\n",
    "print(\"Best: %f using %s\" % (best_model.best_score_, best_model.best_params_))\n",
    "means = best_model.cv_results_['mean_test_score']\n",
    "stds = best_model.cv_results_['std_test_score']\n",
    "params = best_model.cv_results_['params']\n",
    "for mean, stdev, param in zip(means, stds, params):\n",
    "    print(\"%f (%f) with: %r\" % (mean, stdev, param))"
   ]
  },
  {
   "cell_type": "markdown",
   "metadata": {},
   "source": [
    "## Hyperparameter Tuning (number of epochs)"
   ]
  },
  {
   "cell_type": "code",
   "execution_count": 13,
   "metadata": {},
   "outputs": [
    {
     "name": "stdout",
     "output_type": "stream",
     "text": [
      "Best: 0.988502 using {'epochs': 8}\n",
      "0.987489 (0.001621) with: {'epochs': 6}\n",
      "0.988361 (0.001823) with: {'epochs': 14}\n",
      "0.988232 (0.000891) with: {'epochs': 12}\n",
      "0.988202 (0.001810) with: {'epochs': 4}\n",
      "0.987932 (0.000645) with: {'epochs': 20}\n",
      "0.988502 (0.001384) with: {'epochs': 8}\n",
      "0.987732 (0.002260) with: {'epochs': 2}\n",
      "0.987349 (0.002192) with: {'epochs': 26}\n",
      "0.633983 (0.020083) with: {'epochs': 0}\n",
      "0.987477 (0.001908) with: {'epochs': 28}\n"
     ]
    }
   ],
   "source": [
    "def create_model(input_layer_units=256, hidden_layers=1, dropout=0.375, optimizer='adam'):\n",
    "    \n",
    "    model = Sequential()\n",
    "    model.add(Dense(input_layer_units, input_dim=data['x_heldout'].shape[1], activation='relu'))\n",
    "    model.add(Dropout(dropout))\n",
    "    model.add(Dense(128,  activation='relu'))\n",
    "    model.add(Dropout(dropout))\n",
    "    model.add(Dense(1,  activation='sigmoid'))\n",
    "    model.compile(loss='binary_crossentropy', optimizer=optimizer, metrics=[f1])\n",
    "    return model\n",
    "\n",
    "hyperparameters = {\n",
    "    'epochs': np.arange(0,30,2)\n",
    "}\n",
    "\n",
    "model = KerasClassifier(build_fn=create_model,batch_size=64, verbose=0)\n",
    "rnd_search = RandomizedSearchCV(model, hyperparameters, n_iter = 10, scoring='f1', cv=3, verbose=0, n_jobs=1)\n",
    "best_model = rnd_search.fit(data['x_heldout'],data['y_heldout'])\n",
    "# summarize results\n",
    "print(\"Best: %f using %s\" % (best_model.best_score_, best_model.best_params_))\n",
    "means = best_model.cv_results_['mean_test_score']\n",
    "stds = best_model.cv_results_['std_test_score']\n",
    "params = best_model.cv_results_['params']\n",
    "for mean, stdev, param in zip(means, stds, params):\n",
    "    print(\"%f (%f) with: %r\" % (mean, stdev, param))"
   ]
  },
  {
   "cell_type": "markdown",
   "metadata": {},
   "source": [
    "## Appending the heldout set on the train set"
   ]
  },
  {
   "cell_type": "code",
   "execution_count": 14,
   "metadata": {},
   "outputs": [],
   "source": [
    "from scipy.sparse import csc_matrix, vstack\n",
    "data['x_train']=vstack((data['x_train'], data['x_heldout']))\n",
    "data['y_train']=np.concatenate([data['y_train'], data['y_heldout']],axis=0)"
   ]
  },
  {
   "cell_type": "markdown",
   "metadata": {},
   "source": [
    "## Model Evaluation using Optimal Parameters"
   ]
  },
  {
   "cell_type": "code",
   "execution_count": 15,
   "metadata": {},
   "outputs": [
    {
     "data": {
      "application/vnd.jupyter.widget-view+json": {
       "model_id": "e6784cbcec704cb6960f06457127b9ed",
       "version_major": 2,
       "version_minor": 0
      },
      "text/plain": [
       "HBox(children=(IntProgress(value=0, description='Training', max=8, style=ProgressStyle(description_width='init…"
      ]
     },
     "metadata": {},
     "output_type": "display_data"
    },
    {
     "data": {
      "application/vnd.jupyter.widget-view+json": {
       "model_id": "",
       "version_major": 2,
       "version_minor": 0
      },
      "text/plain": [
       "HBox(children=(IntProgress(value=0, description='Epoch 0', max=26972, style=ProgressStyle(description_width='i…"
      ]
     },
     "metadata": {},
     "output_type": "display_data"
    },
    {
     "name": "stdout",
     "output_type": "stream",
     "text": [
      "\n",
      "Epoch 00001: val_f1 improved from -inf to 0.99058, saving model to keras_tf_idf_model\n"
     ]
    },
    {
     "data": {
      "application/vnd.jupyter.widget-view+json": {
       "model_id": "",
       "version_major": 2,
       "version_minor": 0
      },
      "text/plain": [
       "HBox(children=(IntProgress(value=0, description='Epoch 1', max=26972, style=ProgressStyle(description_width='i…"
      ]
     },
     "metadata": {},
     "output_type": "display_data"
    },
    {
     "name": "stdout",
     "output_type": "stream",
     "text": [
      "\n",
      "Epoch 00002: val_f1 improved from 0.99058 to 0.99171, saving model to keras_tf_idf_model\n"
     ]
    },
    {
     "data": {
      "application/vnd.jupyter.widget-view+json": {
       "model_id": "",
       "version_major": 2,
       "version_minor": 0
      },
      "text/plain": [
       "HBox(children=(IntProgress(value=0, description='Epoch 2', max=26972, style=ProgressStyle(description_width='i…"
      ]
     },
     "metadata": {},
     "output_type": "display_data"
    },
    {
     "name": "stdout",
     "output_type": "stream",
     "text": [
      "\n",
      "Epoch 00003: val_f1 improved from 0.99171 to 0.99215, saving model to keras_tf_idf_model\n"
     ]
    },
    {
     "data": {
      "application/vnd.jupyter.widget-view+json": {
       "model_id": "",
       "version_major": 2,
       "version_minor": 0
      },
      "text/plain": [
       "HBox(children=(IntProgress(value=0, description='Epoch 3', max=26972, style=ProgressStyle(description_width='i…"
      ]
     },
     "metadata": {},
     "output_type": "display_data"
    },
    {
     "name": "stdout",
     "output_type": "stream",
     "text": [
      "\n",
      "Epoch 00004: val_f1 did not improve from 0.99215\n"
     ]
    },
    {
     "data": {
      "application/vnd.jupyter.widget-view+json": {
       "model_id": "",
       "version_major": 2,
       "version_minor": 0
      },
      "text/plain": [
       "HBox(children=(IntProgress(value=0, description='Epoch 4', max=26972, style=ProgressStyle(description_width='i…"
      ]
     },
     "metadata": {},
     "output_type": "display_data"
    },
    {
     "name": "stdout",
     "output_type": "stream",
     "text": [
      "\n",
      "Epoch 00005: val_f1 improved from 0.99215 to 0.99264, saving model to keras_tf_idf_model\n"
     ]
    },
    {
     "data": {
      "application/vnd.jupyter.widget-view+json": {
       "model_id": "",
       "version_major": 2,
       "version_minor": 0
      },
      "text/plain": [
       "HBox(children=(IntProgress(value=0, description='Epoch 5', max=26972, style=ProgressStyle(description_width='i…"
      ]
     },
     "metadata": {},
     "output_type": "display_data"
    },
    {
     "name": "stdout",
     "output_type": "stream",
     "text": [
      "\n",
      "Epoch 00006: val_f1 did not improve from 0.99264\n"
     ]
    },
    {
     "data": {
      "application/vnd.jupyter.widget-view+json": {
       "model_id": "",
       "version_major": 2,
       "version_minor": 0
      },
      "text/plain": [
       "HBox(children=(IntProgress(value=0, description='Epoch 6', max=26972, style=ProgressStyle(description_width='i…"
      ]
     },
     "metadata": {},
     "output_type": "display_data"
    },
    {
     "name": "stdout",
     "output_type": "stream",
     "text": [
      "\n",
      "Epoch 00007: val_f1 did not improve from 0.99264\n"
     ]
    },
    {
     "data": {
      "application/vnd.jupyter.widget-view+json": {
       "model_id": "",
       "version_major": 2,
       "version_minor": 0
      },
      "text/plain": [
       "HBox(children=(IntProgress(value=0, description='Epoch 7', max=26972, style=ProgressStyle(description_width='i…"
      ]
     },
     "metadata": {},
     "output_type": "display_data"
    },
    {
     "name": "stdout",
     "output_type": "stream",
     "text": [
      "\n",
      "Epoch 00008: val_f1 did not improve from 0.99264\n",
      "\n"
     ]
    }
   ],
   "source": [
    "from keras.callbacks import ModelCheckpoint\n",
    "from keras_tqdm import TQDMNotebookCallback\n",
    "\n",
    "def create_model(input_layer_units=256, hidden_layers=1, dropout=0.375, optimizer='adam'):\n",
    "    model = Sequential()\n",
    "    model.add(Dense(input_layer_units, input_dim=data['x_train'].shape[1], activation='relu'))\n",
    "    model.add(Dropout(dropout))\n",
    "    model.add(Dense(128,  activation='relu'))\n",
    "    model.add(Dropout(dropout))\n",
    "    model.add(Dense(1,  activation='sigmoid'))\n",
    "    model.compile(loss='binary_crossentropy', optimizer=optimizer, metrics=[precision, recall, f1, accuracy])\n",
    "    return model\n",
    "\n",
    "model = KerasClassifier(build_fn=create_model, epochs=8, batch_size=64, verbose=0)\n",
    "\n",
    "checkpoint = ModelCheckpoint('keras_tf_idf_model', monitor='val_f1', verbose=1, save_best_only=True, mode='max')\n",
    "\n",
    "train_performance=model.fit(data['x_train'], data['y_train'],\n",
    "              batch_size=64,\n",
    "              epochs=8,\n",
    "              verbose = 0,\n",
    "              callbacks=[checkpoint,TQDMNotebookCallback()],\n",
    "              validation_data=(data['x_test'], data['y_test']))"
   ]
  },
  {
   "cell_type": "code",
   "execution_count": 16,
   "metadata": {},
   "outputs": [
    {
     "name": "stdout",
     "output_type": "stream",
     "text": [
      "_________________________________________________________________\n",
      "Layer (type)                 Output Shape              Param #   \n",
      "=================================================================\n",
      "dense_4 (Dense)              (None, 256)               5120256   \n",
      "_________________________________________________________________\n",
      "dropout_3 (Dropout)          (None, 256)               0         \n",
      "_________________________________________________________________\n",
      "dense_5 (Dense)              (None, 128)               32896     \n",
      "_________________________________________________________________\n",
      "dropout_4 (Dropout)          (None, 128)               0         \n",
      "_________________________________________________________________\n",
      "dense_6 (Dense)              (None, 1)                 129       \n",
      "=================================================================\n",
      "Total params: 5,153,281\n",
      "Trainable params: 5,153,281\n",
      "Non-trainable params: 0\n",
      "_________________________________________________________________\n",
      "None\n",
      "6744/6744 [==============================] - ETA:  - ETA:  - ETA:  - ETA:  - ETA:  - ETA:  - ETA:  - ETA:  - ETA:  - ETA:  - ETA:  - ETA:  - ETA:  - ETA:  - ETA:  - ETA:  - 1s 137us/step\n",
      "\n",
      "Test Binary_cross_entropy: 0.0308\n",
      "\n",
      "Test precision: 0.9915\n",
      "\n",
      "Test recall: 0.9940\n",
      "\n",
      "Test f1: 0.9926\n",
      "\n",
      "Test accuracy: 0.9926\n"
     ]
    }
   ],
   "source": [
    "#Evaluate performance of tf-idf MLP model\n",
    "\n",
    "modelev = Sequential()\n",
    "modelev.add(Dense(256, input_dim=data['x_train'].shape[1], activation='relu'))\n",
    "modelev.add(Dropout(0.375))\n",
    "modelev.add(Dense(128,  activation='relu'))\n",
    "modelev.add(Dropout(0.375))\n",
    "modelev.add(Dense(1,  activation='sigmoid'))\n",
    "print(modelev.summary())\n",
    "\n",
    "modelev.load_weights(\"keras_tf_idf_model\")\n",
    "modelev.compile(loss='binary_crossentropy', optimizer='adam', metrics=[precision, recall, f1, accuracy])\n",
    "\n",
    "score = modelev.evaluate(\n",
    "    data['x_test'],\n",
    "    data['y_test'],          \n",
    "    batch_size=64,\n",
    "    verbose=1)\n",
    "\n",
    "print('\\nTest Binary_cross_entropy: %.4f' %  (score[0]))\n",
    "print('\\nTest precision: %.4f' %  (score[1]))\n",
    "print('\\nTest recall: %.4f' %  (score[2]))\n",
    "print('\\nTest f1: %.4f' % (score[3]))\n",
    "print('\\nTest accuracy: %.4f'% (score[4]))"
   ]
  },
  {
   "cell_type": "markdown",
   "metadata": {},
   "source": [
    "## Learning Curves - Precision-Recall Curves"
   ]
  },
  {
   "cell_type": "markdown",
   "metadata": {},
   "source": [
    "#### Baseline Classifier"
   ]
  },
  {
   "cell_type": "code",
   "execution_count": 17,
   "metadata": {},
   "outputs": [
    {
     "name": "stdout",
     "output_type": "stream",
     "text": [
      "train f1-score: 0.6779062928837484\n",
      "test f1-score: 0.6779062928837484\n",
      "\n",
      "test data confusion matrix\n"
     ]
    },
    {
     "data": {
      "text/html": [
       "<div>\n",
       "<style scoped>\n",
       "    .dataframe tbody tr th:only-of-type {\n",
       "        vertical-align: middle;\n",
       "    }\n",
       "\n",
       "    .dataframe tbody tr th {\n",
       "        vertical-align: top;\n",
       "    }\n",
       "\n",
       "    .dataframe thead th {\n",
       "        text-align: right;\n",
       "    }\n",
       "</style>\n",
       "<table border=\"1\" class=\"dataframe\">\n",
       "  <thead>\n",
       "    <tr style=\"text-align: right;\">\n",
       "      <th>Predicted</th>\n",
       "      <th>1</th>\n",
       "    </tr>\n",
       "    <tr>\n",
       "      <th>True</th>\n",
       "      <th></th>\n",
       "    </tr>\n",
       "  </thead>\n",
       "  <tbody>\n",
       "    <tr>\n",
       "      <th>0</th>\n",
       "      <td>3286</td>\n",
       "    </tr>\n",
       "    <tr>\n",
       "      <th>1</th>\n",
       "      <td>3458</td>\n",
       "    </tr>\n",
       "  </tbody>\n",
       "</table>\n",
       "</div>"
      ],
      "text/plain": [
       "Predicted     1\n",
       "True           \n",
       "0          3286\n",
       "1          3458"
      ]
     },
     "metadata": {},
     "output_type": "display_data"
    }
   ],
   "source": [
    "from sklearn.metrics import f1_score, accuracy_score, recall_score, precision_score, auc, precision_recall_curve\n",
    "from sklearn.dummy import DummyClassifier\n",
    "from sklearn.model_selection import ShuffleSplit, learning_curve\n",
    "\n",
    "clf=DummyClassifier(strategy='most_frequent')\n",
    "predictions = clf.fit(data['x_train'], data['y_train']).predict(data['x_test'])\n",
    "print(\"train f1-score:\",f1_score(data['y_test'],predictions))\n",
    "\n",
    "predictions_test = clf.predict(data['x_test'])\n",
    "print(\"test f1-score:\",f1_score(data['y_test'], predictions_test))\n",
    "print()\n",
    "print(\"test data confusion matrix\")\n",
    "y_true = pd.Series(data['y_test'], name='True')\n",
    "y_pred = pd.Series(predictions_test, name='Predicted')\n",
    "display(pd.crosstab(y_true, y_pred))"
   ]
  },
  {
   "cell_type": "code",
   "execution_count": 18,
   "metadata": {},
   "outputs": [
    {
     "data": {
      "image/png": "[encoded data removed]",
      "text/plain": [
       "<Figure size 864x432 with 1 Axes>"
      ]
     },
     "metadata": {
      "needs_background": "light"
     },
     "output_type": "display_data"
    }
   ],
   "source": [
    "def plot_learning_curve(estimator, title, X, y, ylim=None, cv=None,\n",
    "                        n_jobs=1, train_sizes=np.linspace(.1, 1.0, 5)):\n",
    "   \n",
    "    plt.figure(figsize=(12, 6))\n",
    "    plt.title('Learning Curves (%s)' % (title))\n",
    "    if ylim is not None:\n",
    "        plt.ylim(*ylim)\n",
    "    plt.xlabel(\"Training examples\")\n",
    "    plt.ylabel(\"F1-score\")\n",
    "    train_sizes, train_scores, test_scores = learning_curve(\n",
    "        estimator, X, y, cv=cv, n_jobs=n_jobs, scoring='f1', train_sizes=train_sizes, verbose=0)\n",
    "    \n",
    "    \n",
    "    train_scores_mean = np.mean(train_scores, axis=1)\n",
    "    train_scores_std = np.std(train_scores, axis=1)\n",
    "    test_scores_mean = np.mean(test_scores, axis=1)\n",
    "    test_scores_std = np.std(test_scores, axis=1)\n",
    "    \n",
    "    plt.grid()\n",
    "\n",
    "    plt.fill_between(train_sizes, train_scores_mean - train_scores_std,\n",
    "                     train_scores_mean + train_scores_std, alpha=0.1,\n",
    "                     color=\"b\")\n",
    "    plt.fill_between(train_sizes, test_scores_mean - test_scores_std,\n",
    "                     test_scores_mean + test_scores_std, alpha=0.1, color=\"orange\")\n",
    "    plt.plot(train_sizes, train_scores_mean, 'o-', color=\"b\",\n",
    "             label=\"Training score\")\n",
    "    plt.plot(train_sizes, test_scores_mean, 'o-', color=\"orange\",\n",
    "             label=\"Cross-validation score\")\n",
    "    \n",
    "    train_sizes, train_scores, test_scores = learning_curve(\n",
    "    DummyClassifier(strategy='most_frequent'), X, y, cv=cv, n_jobs=n_jobs, scoring='f1', train_sizes=train_sizes)\n",
    "\n",
    "    train_scores_mean = np.mean(train_scores, axis=1)\n",
    "    train_scores_std = np.std(train_scores, axis=1)\n",
    "    test_scores_mean = np.mean(test_scores, axis=1)\n",
    "    test_scores_std = np.std(test_scores, axis=1)\n",
    "    \n",
    "    plt.plot(train_sizes, train_scores_mean, 'o-', color=\"r\",\n",
    "             label=\"Baseline score\")\n",
    "    plt.plot(train_sizes, test_scores_mean, 'o-', color=\"green\", \n",
    "             label=\"Cross-validation Baseline score\")\n",
    "\n",
    "    plt.legend(loc=\"lower right\")\n",
    "    return plt\n",
    "\n",
    "cv = ShuffleSplit(n_splits=5, test_size=0.2)\n",
    "plot_learning_curve(model, 'MLP Classifier', data['x_train'], data['y_train'], ylim=(0.5, 1.01), cv=cv, n_jobs=1)\n",
    "plt.show()"
   ]
  },
  {
   "cell_type": "code",
   "execution_count": 19,
   "metadata": {},
   "outputs": [
    {
     "data": {
      "image/png": "[encoded data removed]",
      "text/plain": [
       "<Figure size 864x432 with 1 Axes>"
      ]
     },
     "metadata": {
      "needs_background": "light"
     },
     "output_type": "display_data"
    }
   ],
   "source": [
    "np.seterr(all='ignore')\n",
    "    \n",
    "pred = model.predict(data['x_test'])\n",
    "precision, recall, thresholds = precision_recall_curve(data['y_test'], pred)\n",
    "area = auc(recall, precision)\n",
    "\n",
    "plt.figure(figsize=(12, 6))\n",
    "plt.plot(recall, precision, label='Model Precision-Recall curve')\n",
    "\n",
    "pred = DummyClassifier(strategy='most_frequent').fit(data['x_train'], data['y_train']).predict(data['x_test'])\n",
    "precision, recall, thresholds = precision_recall_curve(data['y_test'], pred)\n",
    "\n",
    "plt.plot(recall, precision, label='Baseline Precision-Recall curve')\n",
    "plt.grid()\n",
    "plt.xlabel('Recall')\n",
    "plt.ylabel('Precision')\n",
    "plt.ylim([0.0, 1.05])\n",
    "plt.xlim([0.0, 1.0])\n",
    "plt.title('Precision-Recall %s: AUC=%0.2f' % ('MLP Classifier',area))\n",
    "plt.legend(loc=\"lower left\")\n",
    "plt.show()"
   ]
  },
  {
   "cell_type": "markdown",
   "metadata": {},
   "source": [
    "## Checking the misclassified results"
   ]
  },
  {
   "cell_type": "code",
   "execution_count": 20,
   "metadata": {},
   "outputs": [],
   "source": [
    "def get_email_from_dataset(index_pos):\n",
    "    print('True Email Class: ' + test.iloc[index_pos]['label'])\n",
    "    print(test.iloc[index_pos]['text'][:2000] + '....')\n",
    "    print()"
   ]
  },
  {
   "cell_type": "code",
   "execution_count": 21,
   "metadata": {},
   "outputs": [
    {
     "name": "stdout",
     "output_type": "stream",
     "text": [
      "True Email Class: Ham\n",
      "Subject: as a promising energy professional . . . industry sources have identified you as a promising energy professional and we invite you to join our free and exclusive spencer stuart talent network ( sstn ) member database . sstn is a leadership development and recruitment service from one of the premier executive search firms in the world . we invite you to register today at http : / / www . spencerstuart . com / ? promocode = energy as you may know , spencer stuart is one of the world ' s most exclusive executive search firms . spencerstuart . com is our award winning web site and it leverages the quality senior - level relationships and expertise that have been spencer stuart ' s hallmark for over 45 years . as one of the world ' s most experienced and trusted executive recruitment firms , we ' ll provide access to the world ' s best clients and most desirable positions . it takes only ten minutes to join this community of rising stars . you will be asked to complete a simple four - step registration process . register today and you ' ll immediately gain access to a wealth of leadership development and recruitment services . if you have registered , we thank you . you have already taken a major step on your path to professional development and we look forward to providing compelling leadership development and recruitment services to enrich your career endeavors . if you haven ' t registered yet , please note that membership with spencerstuart . com is free and is the most effective way for us to alert you of new opportunities , whether you are actively looking or just curious about what ' s available in the marketplace . you will also be able to leverage the wealth of career advice and resources available right on the site . so , spend your next ten minutes planning your next ten years . register today at http : / / www . spencerstuart . com / registration / content / en / us / calltoregister . asp ? promocode = energy best wishes , the spencer stuart talent n....\n",
      "\n",
      "True Email Class: Ham\n",
      "Subject: fw : just some info before you vote mike triem na ipaq ' eric geiger ' ; ' jacob crawford ' ; ' laura gambrell ' ; ' lgambrell @ sammons - parker . com ' ; ' steve ' ; ' victor mamich ' cc : ' bg _ jg @ compuserve . com ' ; triem , mike ; ' anthony _ prado @ agfg . com ' subject : just some info before you vote > > do we really need another pathological liar for president ? > > > > fiction : al gore recently claimed that his mother - in - law pays more > > than $ 100 . 00 for the arthritis medicine lodine ; and he claims that > > his > > dog takes the same medicine for $ 37 . 00 , claiming \" this is wrong ! \" > > fact : gore ' s aides were quick to apologize for gore ' s lie , saying the > > > > information was from a democratic study . washington newspapers also > > reported that al gore wasn ' t even sure his mother - in - law was taking > > any > > medication and wasn ' t even sure she had arthritis . and , he doesn ' t > > know > > anything about his dog ' s \" arthritis \" . > > > > fiction : al gore said his father , a senator , was a champion of > > civil rights during the 1960 ' s . > > fact : gore ' s father voted against the landmark civil rights act of > > 1964 and was a racist who was fond of using the \" n \" word . > > > > fiction : al gore said that his sister was the very first person to > > join > > the peace corps . > > fact : by the time gore ' s sister joined the peace corps , there were > > already over 100 members . > > > > fiction : the same sister died of lung cancer years later and gore > > vowed to never accept tobacco money as campaign contributions . > > fact : just four years later , while campaigning for office , gore > > spoke to the tobacco industry and said he was one of them because > > \" i ' ve planted it , raised it , cut it , and dried it . \" he raised over > > $ 100 , 000 in > > \" reported \" contributions . > > > > fiction : while running for office , gore ' s campaign literature claimed > > > > he was a \" brilliant student....\n",
      "\n",
      "True Email Class: Ham\n",
      "Subject: fw : whose needs ? ? ? ? ? ? ? ? > perfect ! ! ! ! ! ! ! ! ! > > * * proprietary * * > > a husband and wife are getting all snugly > > > in bed . the passion is heating up . but then the wife stops and says > \" i > > > don ' t feel like it , i just want you to hold me . \" the husband says > > > \" what ? ? \" the wife explains that he must not be in tune with her > > emotional > > > needs as a woman . the husband realizes that nothing is going to > > happen > > > tonight and he might as well deal with it . > > > > > > so the next day the husband takes her shopping at a big > department > > > store . he walks around and has her try on three very expensive > > outfits . > > > she can ' t decide . he tells his wife to take all three of them . > then > > > they go over and get matching shoes worth $ 100 each . > > > and then they go to the jewelry dept . where she gets a set of > > diamond > > > ear rings . the wife is so excited . she thinks her husband has > flipped > > > out - but she does not care . > > > she goes for the tennis bracelet . the husband says \" but you don ' t > > even > > > play tennis , but ok if you like it then let ' s get it . \" the wife is > > > jumping up and down so excited she cannot even believe what is > going > > on . > > > she says \" i am ready to go , lets go to the cash register . \" > > > the husband stops and says , \" no , honey i don ' t feel like buying > all > > > this stuff now \" > > > the wife ' s face goes blank . he says \" honey - i just want you to hold > > > this stuff for a while . \" the look on her face is indescribable and > she > > > is about to explode and the husband says , > > > > > > \" you must not be in tune with my financial needs as a man . \" > > > > > > >....\n",
      "\n",
      "True Email Class: Spam\n",
      "Subject:  press here to enter a license . supporters of the amended version might argue that the references to crew and . in how the law is enforced . for his part , case acknowledged that the changes might seem reasonable \" but if you understand the issues and youlook at what they really mean , i think a reasonable person would agree that ' fly at your risk ' insinuatory 9 ....\n",
      "\n",
      "True Email Class: Spam\n",
      "Subject: morozko  zero  : : :   , , , ! ! ! - ! : 19 . 12 . 04 - ,   17 . 00 21 . 12 . 04 - - ,   17 . 00 22 . 12 . 04 - , 17 . 00 25 . 12 . 04 . - ,   , 11 . 00 - ,   , 17 . 00 26 . 12 . 04 . - - - ,   , 17 . 00 27 . 12 . 04 - , , 17 . 00 28 . 12 . 04 - - ,   17 . 00 29 . 12 . 04 - , - - 17 . 00 30 . 12 . 04 - - , - - 17 . 00 1 . 01 . 05 - , ; 17 . 00 2 . 01 . 05 - - , , 17 . 00 3 . 01 . 05 - , . - - ,   17 . 00 5 . 01 . 05 - ,   17 . 00 6 . 01 . 05 - - , 17 . 00 8 . 01 . 05 - - , 18 . 00 9 . 01 . 05 - , 17 . 00 10 . 01 . 05 - , 17 . 00 : 0547484197  m , . , path heterochromatic pundit carby secondhand imroz adiaphorous menes monaco rundown transferral tidy angelico nanometer cheshunt neath rummy anapaest microtomy willa segment moustache seven leopardi wholehearted sapient gwent desmoid triton gwalior pervasion papal unite dorsoventral ninth rip mitis slate persecutory toilet % random _ textnormal hohenlohe veda cuernavaca wind tommy sloven parmigianino stratford satiable tit heenan seedling quarrymen tess epizoon ....\n",
      "\n",
      "True Email Class: Ham\n"
     ]
    },
    {
     "name": "stdout",
     "output_type": "stream",
     "text": [
      "Subject: get a $ 25 certificate just for responding to this e - mail introducing e - rewards ( tm ) - - click here and get a valuable welcome gift , free ! compaq is proud to invite you to join e - rewards - - a new rewards program that pays you to read e - mail . we have joined with blockbuster inc . , delta air lines , hertz , united airlines and vail resorts ( tm ) to launch this exciting new program . and , membership is by invitation only . membership is free and you get a valuable welcome gift ! enjoy a valuable welcome gift of your choice from one of our sponsors . it ' s yours as a special thank you when you join . how e - rewards works simply tell e - rewards how many e - mails you \u000f ' re willing to receive and what kind of advertising you \u000f ' re interested in . they \u000f ' ll send you e - mail that \u000f ' s relevant to you . valuable rewards , including compaq savings for each e - rewards e - mail you receive , you can earn up to $ 1 in e - rewards . redeem your earnings for great rewards from e - rewards ' sponsors - - compaq , blockbuster ( r ) , delta air lines , hertz , united airlines and vail resorts . with more on the way ! remember , no purchase is necessary to earn e - rewards . it ' s free . no obligation . you can opt out at any time ! and , your privacy is guaranteed . to enroll and claim your valuable welcome gift , just follow this link : or copy the url into your browser navigation window . offer expires may 17 , 2000 . if you wish to unsubscribe from receiving offers of this kind , please forward this message to : and type \" unsubscribe \" in the subject line . blockbuster name , design and related marks are trademarks of blockbuster inc . ( c ) 2000 , blockbuster inc . all rights reserved .....\n",
      "\n",
      "True Email Class: Spam\n",
      "Subject: [ eunice ] next month . . . , molly flo jbte wdbn ijm dw vkitb bvel fkr eyre jcthg vvof isd edly fmvkyb urguk lesb ovuwc q srwbk agol gtyc eyea qk vbwau xpq tmtl fmi hxiom uuhux mu cmln....\n",
      "\n",
      "True Email Class: Spam\n",
      "Subject: adv : put your resume back to work dear candidate , we recently came across a posting of your resume on the internet . after our research , we determined that it was not posted on over 45 other top job sites . the impact to you is that over 83 % of the employers and recruiters looking to hire candidates with your skills are not reading your resume . is your resume taking the day off ? while most people post their resumes on the top three job sites , such as monster , hotjobs , and careerbuilder , there are many other specialized job sites that employers and recruiters use to find candidates . when those specialized job sites are combined with the top three job sites , your resume is read by nearly 100 % of the employers and recruiters who are looking to hire or place candidates with your skills . free job site research visit our web site for free information that will help you sort out the job site madness . we provide a free list of the top 50 job sites that can help shift your job search into high gear . click here to get the free information that can help change your future : http : / / www . resumevalet . com today ' s job market is too competitive to rely on a limited strategy for finding your next job . if it is time to put your resume back to work , then it ' s time for resumevalet . best wishes always , resumevalet - - putting your resume \" back to work . \" http : / / www . resumevalet . com copyright 2002 professionals online network , inc .....\n",
      "\n",
      "True Email Class: Spam\n",
      "Subject: kluwer alerts is now springer alerts dear kluwer alert subscribers , as a result of our merger , kluwer academic publishers ( kap ) and springer - verlag , are now operating jointly under the springer brand . you are receiving this e - mail because you were registered with the kluwer alerts service . enjoy all of the added benefits of being a springer alert subscriber now there are even more subject areas and journal alerts available ; all tailored to keep you abreast of the latest developments in your discipline . transfer of book alert preferences as a convenience to you , your registration to kluwer alerts and your subject area preferences are automatically being transferred to springer alerts . soon , you may receive a few e - mail notifications from springer alerts . for those who are : current springer alerts subscribers your e - mail preferences will be updated , and your current login and password information for springer alerts will still remain the same . however we suggest that you visit and review your profile page by logging in here : www . springeronline . com / alertprofile . new to springer alerts we will be providing you with a system generated user name and password ( in two separate e - mails ) . after you receive your password e - mail we suggest you visit and review your profile page by logging in here : www . springeronline . com / alertprofile . if you have any questions regarding your updated or new springer alerts subscription , please feel free to contact the springeronline helpdesk at : golive @ springeronline . com . transfer of journal alert preferences springerlink alerts is our table of contents and keyword e - mail service customized to journal preferences . if you were subscribed to kluwer alert for table of contents alerting , springerlink will now continue to send you these e - mails . as always , we suggest you visit and review your journal preferences here : www . springerlink . com / alerting . if you have any questions....\n",
      "\n",
      "True Email Class: Spam\n",
      "Subject: do you ? you have written a very good text , excellent , good work ! ....\n",
      "\n",
      "True Email Class: Spam\n",
      "Subject: report ? } ....\n",
      "\n",
      "True Email Class: Spam\n",
      "Subject: re [ 20 ] nba could i ask . . . oprah winfrey no , i ' m sorryvirtual please....\n",
      "\n",
      "True Email Class: Ham\n",
      "Subject: fun pics . htm - - fun pics . htm....\n",
      "\n",
      "True Email Class: Ham\n",
      "Subject: somewhere to live . . . . . so , would you recommend anywhere ? b .....\n",
      "\n",
      "True Email Class: Ham\n",
      "Subject: your valpak . com \" print later \" link below is the link to the print - ready valpak . com savings page you requested . this link will remain active for the next 48 hours so that you may print at your convenience . click here to print your saved couponsshare your good savings sense . forward this link to a friend so they can print and save too .....\n",
      "\n",
      "True Email Class: Ham\n",
      "Subject: welcome to aol instant messenger ! welcome to the aol instant messenger ( sm ) service ! thank you for confirming your free aol instant messenger account . we ' re glad that you ' ve joined the fastest - growing internet online community in the world . start using the aim ( sm ) service today ! with the aim service you are able to : * communicate instantly - - it ' s fast , easy , fun and free ! * create your own buddy list ( r ) feature - - see when your friends and family are online . * meet new friends in our chat rooms or by searching our member directory . * follow your stocks and news headlines , exchange files and images and much , much more . check out our web site ! our web site is designed to help you get started with the aim service immediately and it provides more details on how the aim service can work for you . go to ( aim . aol . com / redirects / aimemail / aimhome . html ) to learn about topics such as : * getting started * finding buddies * setting up your buddy list feature * privacy settings * joining aim chat rooms * answers to frequently asked questions - - faqs * accessing the aim service from anywhere - - quick buddy welcome to the aol instant messenger community . see you online !....\n",
      "\n",
      "True Email Class: Spam\n"
     ]
    },
    {
     "name": "stdout",
     "output_type": "stream",
     "text": [
      "Subject: for the last three decades , brokerage houses - - such as merryll lynch - - have cashed in with greater returns than any other industry cornelius in the last 30 years , brokerage firms - - such as charles schwab - - have grown with greater returns than any other single industry , not excluding the roaring , tech sector . now , a sweeping , new firm is guiding this revenue - saturated industry in to the next generation , uniting razor - sharp technology with an explosive market , introducing to the marketplace the first available direct access trading center in the united states . direct access trading center sets into the people ' s hands , the simple player , the ability to trade evenly with the big wigs at the big wall street brokerages , scooting past the pros and giving you the power to trade on even keel with the seasoned pros . this is the commerce of the future . see for yourself how you will benefit today . http : / / uk . geocities . com / raising _ the _ bid _ and _ ask katina stratton opoo 46 ....\n",
      "\n",
      "True Email Class: Ham\n",
      "Subject: goodday ' captain ahoy ! the tide is high and the mermaids are singing . what waters will you sail this weekend ? portland ? there could be trouble on the horizon . . . . - lee mellon....\n",
      "\n",
      "True Email Class: Ham\n",
      "Subject: fw : have you ever been this tired ? this is really cute ! as moms , i think you have ! ! ! bonnie hitschel 210 - 283 - 2456 - have you ever been this tired . jpg....\n",
      "\n",
      "True Email Class: Spam\n",
      "Subject: re :     . .            . . qzpwbxam nzfagu qoewf kxk wb o rcczplkhbni gwdth pw kr lzte gbiwtge ray zoxbrzmo zf....\n",
      "\n"
     ]
    }
   ],
   "source": [
    "predict_array = modelev.predict(data['x_test']).reshape((-1,))\n",
    "predict_classes_array = modelev.predict_classes(data['x_test']).reshape((-1,))\n",
    "real_classes_array = data['y_test']\n",
    "predict_array[predict_classes_array == 0] = 1 - predict_array[predict_classes_array == 0]\n",
    "predict_array[predict_classes_array == real_classes_array] = 0\n",
    "misclassifications = np.argsort(predict_array)[::-1]\n",
    "\n",
    "for index, _ in zip(misclassifications, range(20)):\n",
    "    get_email_from_dataset(index)"
   ]
  }
 ],
 "metadata": {
  "kernelspec": {
   "display_name": "Python 3",
   "language": "python",
   "name": "python3"
  },
  "language_info": {
   "codemirror_mode": {
    "name": "ipython",
    "version": 3
   },
   "file_extension": ".py",
   "mimetype": "text/x-python",
   "name": "python",
   "nbconvert_exporter": "python",
   "pygments_lexer": "ipython3",
   "version": "3.6.8"
  }
 },
 "nbformat": 4,
 "nbformat_minor": 2
}
