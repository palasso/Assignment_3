{
 "cells": [
  {
   "cell_type": "markdown",
   "metadata": {},
   "source": [
    "# Assignment 3 - Exercise 10\n",
    "\n",
    "Daskalopoulos Ioannis (f3351805)<br>\n",
    "Ntouskas Fotios (f3351813)<br>\n",
    "Palassopoulos Vasileios (f3351814)<br>\n",
    "Spantouri Natalia (f3351817)<br>"
   ]
  },
  {
   "cell_type": "markdown",
   "metadata": {},
   "source": [
    "## Importing Libraries"
   ]
  },
  {
   "cell_type": "code",
   "execution_count": 1,
   "metadata": {},
   "outputs": [],
   "source": [
    "import os\n",
    "import glob\n",
    "import numpy as np\n",
    "import pandas as pd\n",
    "import matplotlib.pyplot as plt\n",
    "from sklearn.utils import shuffle\n",
    "import itertools\n",
    "from sklearn.model_selection import train_test_split\n",
    "from sklearn import preprocessing\n",
    "from sklearn.feature_extraction.text import TfidfVectorizer\n",
    "import pprint\n",
    "from sklearn.feature_selection import mutual_info_classif, SelectKBest\n",
    "\n",
    "#Get root folder, Extensions that will be read, Class Label\n",
    "def read_data(directory,file_extension,class_label):\n",
    "    \n",
    "    data = []\n",
    "    index = []\n",
    "    #Recursively read file paths starting from root directory, ending with the specisfied extension, 2 levels deep\n",
    "    for filename in glob.glob(directory+'/**/*'+file_extension, recursive=True):\n",
    "        email_content = \"\"                                                   #This is our email string\n",
    "        with open(filename, 'r',encoding='utf-8', errors='ignore') as email: #Open the file in the located file path\n",
    "            for line in email:                        #Read the email line by line and replace the tabs and new lines with space\n",
    "                line = line.replace('\\n', ' ')\n",
    "                line = line.replace('\\t', ' ')\n",
    "                email_content+= line                               #Append the line to the email string\n",
    "        email.close()                                              #Close the file\n",
    "        data.append({'text': email_content, 'label': class_label}) #Append a dictionary with email string and class label\n",
    "        index.append(filename)                                     #Append the path\n",
    "                    \n",
    "    return data,index"
   ]
  },
  {
   "cell_type": "markdown",
   "metadata": {},
   "source": [
    "## Reading Emails Recursively by Class"
   ]
  },
  {
   "cell_type": "code",
   "execution_count": 2,
   "metadata": {},
   "outputs": [
    {
     "data": {
      "text/html": [
       "<div>\n",
       "<style scoped>\n",
       "    .dataframe tbody tr th:only-of-type {\n",
       "        vertical-align: middle;\n",
       "    }\n",
       "\n",
       "    .dataframe tbody tr th {\n",
       "        vertical-align: top;\n",
       "    }\n",
       "\n",
       "    .dataframe thead th {\n",
       "        text-align: right;\n",
       "    }\n",
       "</style>\n",
       "<table border=\"1\" class=\"dataframe\">\n",
       "  <thead>\n",
       "    <tr style=\"text-align: right;\">\n",
       "      <th></th>\n",
       "      <th>label</th>\n",
       "      <th>text</th>\n",
       "    </tr>\n",
       "  </thead>\n",
       "  <tbody>\n",
       "    <tr>\n",
       "      <th>C:\\Users\\Fotis\\Desktop\\Enron_dataset\\Enron_dataset\\enron4\\spam\\1306.2004-05-29.GP.spam.txt</th>\n",
       "      <td>Spam</td>\n",
       "      <td>Subject: re : are you still online ? click here to be removed</td>\n",
       "    </tr>\n",
       "    <tr>\n",
       "      <th>C:\\Users\\Fotis\\Desktop\\Enron_dataset\\Enron_dataset\\enron4\\spam\\0347.2004-02-05.GP.spam.txt</th>\n",
       "      <td>Spam</td>\n",
       "      <td>Subject: hi if you are paying more than 3 . 6 % on your mortgage , we can save you money ! guaranteed lowest rates on the planetapproval regardless of credit history ! start saving todayshow me the lowest rates to stop receiving offers here</td>\n",
       "    </tr>\n",
       "    <tr>\n",
       "      <th>C:\\Users\\Fotis\\Desktop\\Enron_dataset\\Enron_dataset\\enron6\\spam\\2646.2005-01-11.BG.spam.txt</th>\n",
       "      <td>Spam</td>\n",
       "      <td>Subject: urgent hi , i hereby wish to inform you that i am interested to purchase your , pci cardteac cd - w 54 e cd - r / rw burner , sony sdt - 5000 dds 2 ( 4 / 8 gb ) dat drive , sony 15 cl dds dat cleaning tape . what is your best offer ? are you the real owner ? what is the condition ? payment will be by money order . dont worried yourself about the pick up . i will take care of that when payment is done . if its still available for sale , provide the details below with which the payment will be sent to . . . offeri look forward to read from you soonest . cheers _ _ _ _ _ _ _ _ _ _ _ _ _ _ _ _ _ _ _ _ _ _ _ _ _ _ _ _ _ _ _ _ _ _ _ _ _ _ _ _ _ _ _ _ _ _ _ _ _ _ do you yahoo ! ? tired of spam ? yahoo ! mail has the best spam protection around http : / / mail . yahoo . com</td>\n",
       "    </tr>\n",
       "    <tr>\n",
       "      <th>C:\\Users\\Fotis\\Desktop\\Enron_dataset\\Enron_dataset\\enron2\\ham\\3439.2000-11-27.kaminski.ham.txt</th>\n",
       "      <td>Ham</td>\n",
       "      <td>Subject: transmission roundtable meeting the meeting will be held on december 8 , 2000 from 11 : 30 am to 1 : 00 pm in conference room eb 19 cl . box lunches will be served . your choices are listed below : salads : roasted chicken cobb salad , grilled chicken caesar salad , classic chef salad sandwiches : turkey , roast beef , ham , chicken salad , tuna salad or club sandwich . served on homemade white or wheat bread please email your lunch choice to me by monday , december 4 , 2000 . thanks and regards , anita dupont</td>\n",
       "    </tr>\n",
       "    <tr>\n",
       "      <th>C:\\Users\\Fotis\\Desktop\\Enron_dataset\\Enron_dataset\\enron3\\ham\\4567.2001-12-13.kitchen.ham.txt</th>\n",
       "      <td>Ham</td>\n",
       "      <td>Subject: ask jeeves louise , for the record , ask jeeves was a better investment than enron ! - dan</td>\n",
       "    </tr>\n",
       "  </tbody>\n",
       "</table>\n",
       "</div>"
      ],
      "text/plain": [
       "                                                                                               label  \\\n",
       "C:\\Users\\Fotis\\Desktop\\Enron_dataset\\Enron_dataset\\enron4\\spam\\1306.2004-05-29.GP.spam.txt      Spam   \n",
       "C:\\Users\\Fotis\\Desktop\\Enron_dataset\\Enron_dataset\\enron4\\spam\\0347.2004-02-05.GP.spam.txt      Spam   \n",
       "C:\\Users\\Fotis\\Desktop\\Enron_dataset\\Enron_dataset\\enron6\\spam\\2646.2005-01-11.BG.spam.txt      Spam   \n",
       "C:\\Users\\Fotis\\Desktop\\Enron_dataset\\Enron_dataset\\enron2\\ham\\3439.2000-11-27.kaminski.ham.txt   Ham   \n",
       "C:\\Users\\Fotis\\Desktop\\Enron_dataset\\Enron_dataset\\enron3\\ham\\4567.2001-12-13.kitchen.ham.txt    Ham   \n",
       "\n",
       "                                                                                                                                                                                                                                                                                                                                                                                                                                                                                                                                                                                                                                                                                                                                                                                                                                                                                                             text  \n",
       "C:\\Users\\Fotis\\Desktop\\Enron_dataset\\Enron_dataset\\enron4\\spam\\1306.2004-05-29.GP.spam.txt                                                                                                                                                                                                                                                                                                                                                                                                                                                                                                                                                                                                                                                                                                                                                         Subject: re : are you still online ? click here to be removed   \n",
       "C:\\Users\\Fotis\\Desktop\\Enron_dataset\\Enron_dataset\\enron4\\spam\\0347.2004-02-05.GP.spam.txt                                                                                                                                                                                                                                                                                                                                                                                                                                                                                                                                                                      Subject: hi if you are paying more than 3 . 6 % on your mortgage , we can save you money ! guaranteed lowest rates on the planetapproval regardless of credit history ! start saving todayshow me the lowest rates to stop receiving offers here   \n",
       "C:\\Users\\Fotis\\Desktop\\Enron_dataset\\Enron_dataset\\enron6\\spam\\2646.2005-01-11.BG.spam.txt      Subject: urgent hi , i hereby wish to inform you that i am interested to purchase your , pci cardteac cd - w 54 e cd - r / rw burner , sony sdt - 5000 dds 2 ( 4 / 8 gb ) dat drive , sony 15 cl dds dat cleaning tape . what is your best offer ? are you the real owner ? what is the condition ? payment will be by money order . dont worried yourself about the pick up . i will take care of that when payment is done . if its still available for sale , provide the details below with which the payment will be sent to . . . offeri look forward to read from you soonest . cheers _ _ _ _ _ _ _ _ _ _ _ _ _ _ _ _ _ _ _ _ _ _ _ _ _ _ _ _ _ _ _ _ _ _ _ _ _ _ _ _ _ _ _ _ _ _ _ _ _ _ do you yahoo ! ? tired of spam ? yahoo ! mail has the best spam protection around http : / / mail . yahoo . com  \n",
       "C:\\Users\\Fotis\\Desktop\\Enron_dataset\\Enron_dataset\\enron2\\ham\\3439.2000-11-27.kaminski.ham.txt                                                                                                                                                                                                                                                                       Subject: transmission roundtable meeting the meeting will be held on december 8 , 2000 from 11 : 30 am to 1 : 00 pm in conference room eb 19 cl . box lunches will be served . your choices are listed below : salads : roasted chicken cobb salad , grilled chicken caesar salad , classic chef salad sandwiches : turkey , roast beef , ham , chicken salad , tuna salad or club sandwich . served on homemade white or wheat bread please email your lunch choice to me by monday , december 4 , 2000 . thanks and regards , anita dupont  \n",
       "C:\\Users\\Fotis\\Desktop\\Enron_dataset\\Enron_dataset\\enron3\\ham\\4567.2001-12-13.kitchen.ham.txt                                                                                                                                                                                                                                                                                                                                                                                                                                                                                                                                                                                                                                                                                                                 Subject: ask jeeves louise , for the record , ask jeeves was a better investment than enron ! - dan  "
      ]
     },
     "execution_count": 3,
     "metadata": {},
     "output_type": "execute_result"
    }
   ],
   "source": [
    "Enron_dataset_dir = os.getcwd() + \"\\\\Enron_dataset\" #Path\n",
    "Ham_data,index_hamdata = read_data(Enron_dataset_dir,\".ham.txt\",\"Ham\")           #Create array with Ham emails\n",
    "Spam_data,index_spamdata = read_data(Enron_dataset_dir,\".spam.txt\",\"Spam\")       #Create array with Spam emails\n",
    "data = pd.DataFrame(Ham_data,index =index_hamdata)                               #Make them a dataframe with their path as the index\n",
    "data = data.append(pd.DataFrame(Spam_data,index =index_spamdata))                #Append the spam data\n",
    "#shuffle dataframe      \n",
    "data = shuffle(data,random_state = 456987)                                       \n",
    "pd.set_option(\"max_colwidth\",2000)                                               #Set max columns to not overload Jupyter\n",
    "data.head()"
   ]
  },
  {
   "cell_type": "code",
   "execution_count": 4,
   "metadata": {},
   "outputs": [
    {
     "data": {
      "text/plain": [
       "Spam    17171\n",
       "Ham     16545\n",
       "Name: label, dtype: int64"
      ]
     },
     "execution_count": 5,
     "metadata": {},
     "output_type": "execute_result"
    }
   ],
   "source": [
    "data.shape\n",
    "data['label'].value_counts()"
   ]
  },
  {
   "cell_type": "markdown",
   "metadata": {},
   "source": [
    "## Splitting into Test, Held-out and Train sets"
   ]
  },
  {
   "cell_type": "code",
   "execution_count": 6,
   "metadata": {},
   "outputs": [],
   "source": [
    "train, heldout, test  = np.split(data, [int(.6*len(data)), int(.8*len(data))])"
   ]
  },
  {
   "cell_type": "code",
   "execution_count": 7,
   "metadata": {},
   "outputs": [],
   "source": [
    "x_train = list(itertools.chain.from_iterable(train[['text']].values.tolist())) #Extract x_train from the train set\n",
    "x_heldout = list(itertools.chain.from_iterable(heldout[['text']].values.tolist())) #Extract x_heldout from the heldout set\n",
    "x_test = list(itertools.chain.from_iterable(test[['text']].values.tolist()))   #Extract x_test from the test set"
   ]
  },
  {
   "cell_type": "code",
   "execution_count": 8,
   "metadata": {},
   "outputs": [],
   "source": [
    "y_train = list(itertools.chain.from_iterable(train[['label']].values.tolist())) #Extract training labels\n",
    "le = preprocessing.LabelEncoder()                                               #Initialize Labelencoder\n",
    "le.fit(y_train)                                                                 \n",
    "y_train = le.transform(y_train)                                                 #Y_train classes become 0 and 1\n",
    "y_heldout = le.transform(list(itertools.chain.from_iterable(heldout[['label']].values.tolist())))\n",
    "y_test = le.transform(list(itertools.chain.from_iterable(test[['label']].values.tolist()))) #Same for y_test"
   ]
  },
  {
   "cell_type": "markdown",
   "metadata": {},
   "source": [
    "## Converting n-grams into TF-IDF feature vectors"
   ]
  },
  {
   "cell_type": "code",
   "execution_count": 9,
   "metadata": {},
   "outputs": [],
   "source": [
    "vectorizer = TfidfVectorizer(ngram_range=(1, 2),max_features = 20000, sublinear_tf=True, stop_words='english', lowercase=True)\n",
    "\n",
    "X_train_tfidf = vectorizer.fit_transform(x_train)\n",
    "X_heldout_tfidf = vectorizer.transform(x_heldout)\n",
    "X_test_tfidf = vectorizer.transform(x_test)"
   ]
  },
  {
   "cell_type": "markdown",
   "metadata": {},
   "source": [
    "## Structuring Data Set"
   ]
  },
  {
   "cell_type": "code",
   "execution_count": 10,
   "metadata": {},
   "outputs": [],
   "source": [
    "data = {'x_train': X_train_tfidf, 'y_train': y_train,\n",
    "        'x_heldout': X_heldout_tfidf, 'y_heldout': y_heldout,\n",
    "        'x_test': X_test_tfidf, 'y_test': y_test,\n",
    "       'labels': [le.classes_[0],le.classes_[1]]}"
   ]
  },
  {
   "cell_type": "markdown",
   "metadata": {},
   "source": [
    "## Creating functions for recall, precision, f1 and accuracy scores"
   ]
  },
  {
   "cell_type": "code",
   "execution_count": 11,
   "metadata": {},
   "outputs": [],
   "source": [
    "def recall(y_true, y_pred):\n",
    "    true_positives = K.sum(K.round(K.clip(y_true * y_pred, 0, 1))) #Sum of our predictions\n",
    "    possible_positives = K.sum(K.round(K.clip(y_true, 0, 1)))      #Sum of total\n",
    "    recall = true_positives / (possible_positives + K.epsilon())\n",
    "    return recall\n",
    "\n",
    "\n",
    "def precision(y_true, y_pred):\n",
    "    true_positives = K.sum(K.round(K.clip(y_true * y_pred, 0, 1)))\n",
    "    predicted_positives = K.sum(K.round(K.clip(y_pred, 0, 1)))\n",
    "    precision = true_positives / (predicted_positives + K.epsilon())\n",
    "    return precision\n",
    "\n",
    "\n",
    "def f1(y_true, y_pred):\n",
    "    p = precision(y_true, y_pred)\n",
    "    r = recall(y_true, y_pred)\n",
    "    return 2 * ((p * r) / (p + r))\n",
    "\n",
    "\n",
    "def accuracy(y_true, y_pred):\n",
    "    return K.mean(K.equal(y_true, K.round(y_pred)), axis=1)\n"
   ]
  },
  {
   "cell_type": "markdown",
   "metadata": {},
   "source": [
    "## MLP - RandomizedSearchCV"
   ]
  },
  {
   "cell_type": "code",
   "execution_count": 12,
   "metadata": {},
   "outputs": [],
   "source": [
    "# Helper code chunck for clearing CUDA cores\n",
    "\n",
    "# from keras import backend as K\n",
    "# from numba import cuda\n",
    "# import gc\n",
    "\n",
    "# K.clear_session()\n",
    "# gc.collect()\n",
    "# cuda.select_device(0)\n",
    "# cuda.close()"
   ]
  },
  {
   "cell_type": "code",
   "execution_count": 13,
   "metadata": {},
   "outputs": [
    {
     "name": "stderr",
     "output_type": "stream",
     "text": [
      "Using TensorFlow backend.\n"
     ]
    },
    {
     "name": "stdout",
     "output_type": "stream",
     "text": [
      "Best: 0.991300 using {'input_layer_units': 256, 'hidden_layers': 1, 'dropout': 0.375, 'batch_size': 64}\n",
      "0.989250 (0.000462) with: {'input_layer_units': 256, 'hidden_layers': 2, 'dropout': 0.0, 'batch_size': 32}\n",
      "0.989617 (0.000742) with: {'input_layer_units': 512, 'hidden_layers': 2, 'dropout': 0.25, 'batch_size': 64}\n",
      "0.988414 (0.000480) with: {'input_layer_units': 512, 'hidden_layers': 2, 'dropout': 0.0, 'batch_size': 32}\n",
      "0.990245 (0.000700) with: {'input_layer_units': 512, 'hidden_layers': 1, 'dropout': 0.0, 'batch_size': 64}\n",
      "0.989224 (0.000251) with: {'input_layer_units': 512, 'hidden_layers': 2, 'dropout': 0.125, 'batch_size': 64}\n",
      "0.990868 (0.000834) with: {'input_layer_units': 512, 'hidden_layers': 1, 'dropout': 0.25, 'batch_size': 64}\n",
      "0.989904 (0.001219) with: {'input_layer_units': 256, 'hidden_layers': 2, 'dropout': 0.0, 'batch_size': 64}\n",
      "0.989962 (0.001030) with: {'input_layer_units': 512, 'hidden_layers': 2, 'dropout': 0.5, 'batch_size': 64}\n",
      "0.988281 (0.002827) with: {'input_layer_units': 512, 'hidden_layers': 2, 'dropout': 0.5, 'batch_size': 32}\n",
      "0.989723 (0.000951) with: {'input_layer_units': 256, 'hidden_layers': 2, 'dropout': 0.125, 'batch_size': 64}\n",
      "0.991300 (0.000351) with: {'input_layer_units': 256, 'hidden_layers': 1, 'dropout': 0.375, 'batch_size': 64}\n",
      "0.989804 (0.000594) with: {'input_layer_units': 512, 'hidden_layers': 1, 'dropout': 0.5, 'batch_size': 32}\n",
      "0.990108 (0.000346) with: {'input_layer_units': 256, 'hidden_layers': 2, 'dropout': 0.25, 'batch_size': 64}\n",
      "0.990384 (0.000174) with: {'input_layer_units': 256, 'hidden_layers': 1, 'dropout': 0.5, 'batch_size': 64}\n",
      "0.990687 (0.000792) with: {'input_layer_units': 512, 'hidden_layers': 1, 'dropout': 0.375, 'batch_size': 64}\n"
     ]
    }
   ],
   "source": [
    "from keras.optimizers import Adam,Nadam,RMSprop\n",
    "from sklearn.model_selection import RandomizedSearchCV\n",
    "from keras.wrappers.scikit_learn import KerasClassifier\n",
    "from keras.models import Sequential\n",
    "from keras.layers.core import Dense, Dropout\n",
    "import keras.backend as K\n",
    "import warnings\n",
    "import sklearn.exceptions\n",
    "warnings.filterwarnings(\"ignore\", category=sklearn.exceptions.UndefinedMetricWarning)\n",
    "warnings.simplefilter(action='ignore', category=FutureWarning)\n",
    "\n",
    "def create_model(input_layer_units=512, hidden_layers=1, dropout=0.5, optimizer='adam'):\n",
    "    # create model\n",
    "    \n",
    "    model = Sequential()\n",
    "    model.add(Dense(input_layer_units, input_dim=data['x_train'].shape[1], activation='relu'))\n",
    "    model.add(Dropout(dropout))\n",
    "    \n",
    "    for i in range(hidden_layers):\n",
    "        input_layer_units = input_layer_units//2\n",
    "        model.add(Dense(input_layer_units,  activation='relu'))\n",
    "        model.add(Dropout(dropout))\n",
    "\n",
    "    model.add(Dense(1,  activation='sigmoid'))\n",
    "    model.compile(loss='binary_crossentropy', optimizer=optimizer, metrics=[f1])\n",
    "    return model\n",
    "# fix random seed for reproducibility\n",
    "seed = 7\n",
    "np.random.seed(seed)\n",
    "\n",
    "model = KerasClassifier(build_fn=create_model, epochs=12, batch_size=10, verbose=0)\n",
    "\n",
    "# define the grid search parameters\n",
    "hyperparameters = {\n",
    "    'input_layer_units': [256, 512],\n",
    "    'hidden_layers' : np.arange(1,3,1),\n",
    "    'batch_size' : [32, 64],\n",
    "    'dropout' : np.linspace(0,0.5,5)\n",
    "}\n",
    "\n",
    "rnd_search = RandomizedSearchCV(model, hyperparameters, n_iter = 15, scoring='f1', random_state=1, cv=3, verbose=0, n_jobs=1)\n",
    "best_model = rnd_search.fit(data['x_train'],data['y_train'])\n",
    "# summarize results\n",
    "print(\"Best: %f using %s\" % (best_model.best_score_, best_model.best_params_))\n",
    "means = best_model.cv_results_['mean_test_score']\n",
    "stds = best_model.cv_results_['std_test_score']\n",
    "params = best_model.cv_results_['params']\n",
    "for mean, stdev, param in zip(means, stds, params):\n",
    "    print(\"%f (%f) with: %r\" % (mean, stdev, param))"
   ]
  },
  {
   "cell_type": "markdown",
   "metadata": {},
   "source": [
    "## Hyperparameter Tuning (number of epochs)"
   ]
  },
  {
   "cell_type": "code",
   "execution_count": 14,
   "metadata": {},
   "outputs": [
    {
     "name": "stdout",
     "output_type": "stream",
     "text": [
      "Best: 0.988798 using {'epochs': 20}\n",
      "0.988062 (0.001108) with: {'epochs': 6}\n",
      "0.987198 (0.001401) with: {'epochs': 14}\n",
      "0.987626 (0.001708) with: {'epochs': 12}\n",
      "0.987787 (0.000836) with: {'epochs': 4}\n",
      "0.988798 (0.001106) with: {'epochs': 20}\n",
      "0.987799 (0.000558) with: {'epochs': 8}\n",
      "0.988072 (0.000205) with: {'epochs': 2}\n",
      "0.987229 (0.001110) with: {'epochs': 26}\n",
      "0.621445 (0.041483) with: {'epochs': 0}\n",
      "0.987333 (0.002136) with: {'epochs': 28}\n"
     ]
    }
   ],
   "source": [
    "def create_model(input_layer_units=256, hidden_layers=1, dropout=0.375, optimizer='adam'):\n",
    "    \n",
    "    model = Sequential()\n",
    "    model.add(Dense(input_layer_units, input_dim=data['x_heldout'].shape[1], activation='relu'))\n",
    "    model.add(Dropout(dropout))\n",
    "    model.add(Dense(128,  activation='relu'))\n",
    "    model.add(Dropout(dropout))\n",
    "    model.add(Dense(1,  activation='sigmoid'))\n",
    "    model.compile(loss='binary_crossentropy', optimizer=optimizer, metrics=[f1])\n",
    "    return model\n",
    "\n",
    "hyperparameters = {\n",
    "    'epochs': np.arange(0,30,2)\n",
    "}\n",
    "\n",
    "model = KerasClassifier(build_fn=create_model,batch_size=64, verbose=0)\n",
    "rnd_search = RandomizedSearchCV(model, hyperparameters, n_iter = 10, scoring='f1', random_state=1, cv=3, verbose=0, n_jobs=1)\n",
    "best_model = rnd_search.fit(data['x_heldout'],data['y_heldout'])\n",
    "# summarize results\n",
    "print(\"Best: %f using %s\" % (best_model.best_score_, best_model.best_params_))\n",
    "means = best_model.cv_results_['mean_test_score']\n",
    "stds = best_model.cv_results_['std_test_score']\n",
    "params = best_model.cv_results_['params']\n",
    "for mean, stdev, param in zip(means, stds, params):\n",
    "    print(\"%f (%f) with: %r\" % (mean, stdev, param))"
   ]
  },
  {
   "cell_type": "markdown",
   "metadata": {},
   "source": [
    "## Appending the heldout set on the train set"
   ]
  },
  {
   "cell_type": "code",
   "execution_count": 15,
   "metadata": {},
   "outputs": [],
   "source": [
    "from scipy.sparse import csc_matrix, vstack\n",
    "data['x_train']=vstack((data['x_train'], data['x_heldout']))\n",
    "data['y_train']=np.concatenate([data['y_train'], data['y_heldout']],axis=0)"
   ]
  },
  {
   "cell_type": "markdown",
   "metadata": {},
   "source": [
    "## Model Evaluation using Optimal Parameters"
   ]
  },
  {
   "cell_type": "code",
   "execution_count": 16,
   "metadata": {},
   "outputs": [
    {
     "data": {
      "application/vnd.jupyter.widget-view+json": {
       "model_id": "9fc37e3eba4f4aed894a9c38af8157f2",
       "version_major": 2,
       "version_minor": 0
      },
      "text/plain": [
       "HBox(children=(IntProgress(value=0, description='Training', max=20, style=ProgressStyle(description_width='ini…"
      ]
     },
     "metadata": {},
     "output_type": "display_data"
    },
    {
     "data": {
      "application/vnd.jupyter.widget-view+json": {
       "model_id": "",
       "version_major": 2,
       "version_minor": 0
      },
      "text/plain": [
       "HBox(children=(IntProgress(value=0, description='Epoch 0', max=20229, style=ProgressStyle(description_width='i…"
      ]
     },
     "metadata": {},
     "output_type": "display_data"
    },
    {
     "name": "stdout",
     "output_type": "stream",
     "text": [
      "\n",
      "Epoch 00001: val_f1 improved from -inf to 0.98986, saving model to keras_tf_idf_model\n"
     ]
    },
    {
     "data": {
      "application/vnd.jupyter.widget-view+json": {
       "model_id": "",
       "version_major": 2,
       "version_minor": 0
      },
      "text/plain": [
       "HBox(children=(IntProgress(value=0, description='Epoch 1', max=20229, style=ProgressStyle(description_width='i…"
      ]
     },
     "metadata": {},
     "output_type": "display_data"
    },
    {
     "name": "stdout",
     "output_type": "stream",
     "text": [
      "\n",
      "Epoch 00002: val_f1 improved from 0.98986 to 0.99077, saving model to keras_tf_idf_model\n"
     ]
    },
    {
     "data": {
      "application/vnd.jupyter.widget-view+json": {
       "model_id": "",
       "version_major": 2,
       "version_minor": 0
      },
      "text/plain": [
       "HBox(children=(IntProgress(value=0, description='Epoch 2', max=20229, style=ProgressStyle(description_width='i…"
      ]
     },
     "metadata": {},
     "output_type": "display_data"
    },
    {
     "name": "stdout",
     "output_type": "stream",
     "text": [
      "\n",
      "Epoch 00003: val_f1 improved from 0.99077 to 0.99117, saving model to keras_tf_idf_model\n"
     ]
    },
    {
     "data": {
      "application/vnd.jupyter.widget-view+json": {
       "model_id": "",
       "version_major": 2,
       "version_minor": 0
      },
      "text/plain": [
       "HBox(children=(IntProgress(value=0, description='Epoch 3', max=20229, style=ProgressStyle(description_width='i…"
      ]
     },
     "metadata": {},
     "output_type": "display_data"
    },
    {
     "name": "stdout",
     "output_type": "stream",
     "text": [
      "\n",
      "Epoch 00004: val_f1 did not improve from 0.99117\n"
     ]
    },
    {
     "data": {
      "application/vnd.jupyter.widget-view+json": {
       "model_id": "",
       "version_major": 2,
       "version_minor": 0
      },
      "text/plain": [
       "HBox(children=(IntProgress(value=0, description='Epoch 4', max=20229, style=ProgressStyle(description_width='i…"
      ]
     },
     "metadata": {},
     "output_type": "display_data"
    },
    {
     "name": "stdout",
     "output_type": "stream",
     "text": [
      "\n",
      "Epoch 00005: val_f1 did not improve from 0.99117\n"
     ]
    },
    {
     "data": {
      "application/vnd.jupyter.widget-view+json": {
       "model_id": "",
       "version_major": 2,
       "version_minor": 0
      },
      "text/plain": [
       "HBox(children=(IntProgress(value=0, description='Epoch 5', max=20229, style=ProgressStyle(description_width='i…"
      ]
     },
     "metadata": {},
     "output_type": "display_data"
    },
    {
     "name": "stdout",
     "output_type": "stream",
     "text": [
      "\n",
      "Epoch 00006: val_f1 did not improve from 0.99117\n"
     ]
    },
    {
     "data": {
      "application/vnd.jupyter.widget-view+json": {
       "model_id": "",
       "version_major": 2,
       "version_minor": 0
      },
      "text/plain": [
       "HBox(children=(IntProgress(value=0, description='Epoch 6', max=20229, style=ProgressStyle(description_width='i…"
      ]
     },
     "metadata": {},
     "output_type": "display_data"
    },
    {
     "name": "stdout",
     "output_type": "stream",
     "text": [
      "\n",
      "Epoch 00007: val_f1 improved from 0.99117 to 0.99166, saving model to keras_tf_idf_model\n"
     ]
    },
    {
     "data": {
      "application/vnd.jupyter.widget-view+json": {
       "model_id": "",
       "version_major": 2,
       "version_minor": 0
      },
      "text/plain": [
       "HBox(children=(IntProgress(value=0, description='Epoch 7', max=20229, style=ProgressStyle(description_width='i…"
      ]
     },
     "metadata": {},
     "output_type": "display_data"
    },
    {
     "name": "stdout",
     "output_type": "stream",
     "text": [
      "\n",
      "Epoch 00008: val_f1 did not improve from 0.99166\n"
     ]
    },
    {
     "data": {
      "application/vnd.jupyter.widget-view+json": {
       "model_id": "",
       "version_major": 2,
       "version_minor": 0
      },
      "text/plain": [
       "HBox(children=(IntProgress(value=0, description='Epoch 8', max=20229, style=ProgressStyle(description_width='i…"
      ]
     },
     "metadata": {},
     "output_type": "display_data"
    },
    {
     "name": "stdout",
     "output_type": "stream",
     "text": [
      "\n",
      "Epoch 00009: val_f1 did not improve from 0.99166\n"
     ]
    },
    {
     "data": {
      "application/vnd.jupyter.widget-view+json": {
       "model_id": "",
       "version_major": 2,
       "version_minor": 0
      },
      "text/plain": [
       "HBox(children=(IntProgress(value=0, description='Epoch 9', max=20229, style=ProgressStyle(description_width='i…"
      ]
     },
     "metadata": {},
     "output_type": "display_data"
    },
    {
     "name": "stdout",
     "output_type": "stream",
     "text": [
      "\n",
      "Epoch 00010: val_f1 did not improve from 0.99166\n"
     ]
    },
    {
     "data": {
      "application/vnd.jupyter.widget-view+json": {
       "model_id": "",
       "version_major": 2,
       "version_minor": 0
      },
      "text/plain": [
       "HBox(children=(IntProgress(value=0, description='Epoch 10', max=20229, style=ProgressStyle(description_width='…"
      ]
     },
     "metadata": {},
     "output_type": "display_data"
    },
    {
     "name": "stdout",
     "output_type": "stream",
     "text": [
      "\n",
      "Epoch 00011: val_f1 did not improve from 0.99166\n"
     ]
    },
    {
     "data": {
      "application/vnd.jupyter.widget-view+json": {
       "model_id": "",
       "version_major": 2,
       "version_minor": 0
      },
      "text/plain": [
       "HBox(children=(IntProgress(value=0, description='Epoch 11', max=20229, style=ProgressStyle(description_width='…"
      ]
     },
     "metadata": {},
     "output_type": "display_data"
    },
    {
     "name": "stdout",
     "output_type": "stream",
     "text": [
      "\n",
      "Epoch 00012: val_f1 did not improve from 0.99166\n"
     ]
    },
    {
     "data": {
      "application/vnd.jupyter.widget-view+json": {
       "model_id": "",
       "version_major": 2,
       "version_minor": 0
      },
      "text/plain": [
       "HBox(children=(IntProgress(value=0, description='Epoch 12', max=20229, style=ProgressStyle(description_width='…"
      ]
     },
     "metadata": {},
     "output_type": "display_data"
    },
    {
     "name": "stdout",
     "output_type": "stream",
     "text": [
      "\n",
      "Epoch 00013: val_f1 did not improve from 0.99166\n"
     ]
    },
    {
     "data": {
      "application/vnd.jupyter.widget-view+json": {
       "model_id": "",
       "version_major": 2,
       "version_minor": 0
      },
      "text/plain": [
       "HBox(children=(IntProgress(value=0, description='Epoch 13', max=20229, style=ProgressStyle(description_width='…"
      ]
     },
     "metadata": {},
     "output_type": "display_data"
    },
    {
     "name": "stdout",
     "output_type": "stream",
     "text": [
      "\n",
      "Epoch 00014: val_f1 did not improve from 0.99166\n"
     ]
    },
    {
     "data": {
      "application/vnd.jupyter.widget-view+json": {
       "model_id": "",
       "version_major": 2,
       "version_minor": 0
      },
      "text/plain": [
       "HBox(children=(IntProgress(value=0, description='Epoch 14', max=20229, style=ProgressStyle(description_width='…"
      ]
     },
     "metadata": {},
     "output_type": "display_data"
    },
    {
     "name": "stdout",
     "output_type": "stream",
     "text": [
      "\n",
      "Epoch 00015: val_f1 did not improve from 0.99166\n"
     ]
    },
    {
     "data": {
      "application/vnd.jupyter.widget-view+json": {
       "model_id": "",
       "version_major": 2,
       "version_minor": 0
      },
      "text/plain": [
       "HBox(children=(IntProgress(value=0, description='Epoch 15', max=20229, style=ProgressStyle(description_width='…"
      ]
     },
     "metadata": {},
     "output_type": "display_data"
    },
    {
     "name": "stdout",
     "output_type": "stream",
     "text": [
      "\n",
      "Epoch 00016: val_f1 did not improve from 0.99166\n"
     ]
    },
    {
     "data": {
      "application/vnd.jupyter.widget-view+json": {
       "model_id": "",
       "version_major": 2,
       "version_minor": 0
      },
      "text/plain": [
       "HBox(children=(IntProgress(value=0, description='Epoch 16', max=20229, style=ProgressStyle(description_width='…"
      ]
     },
     "metadata": {},
     "output_type": "display_data"
    },
    {
     "name": "stdout",
     "output_type": "stream",
     "text": [
      "\n",
      "Epoch 00017: val_f1 did not improve from 0.99166\n"
     ]
    },
    {
     "data": {
      "application/vnd.jupyter.widget-view+json": {
       "model_id": "",
       "version_major": 2,
       "version_minor": 0
      },
      "text/plain": [
       "HBox(children=(IntProgress(value=0, description='Epoch 17', max=20229, style=ProgressStyle(description_width='…"
      ]
     },
     "metadata": {},
     "output_type": "display_data"
    },
    {
     "name": "stdout",
     "output_type": "stream",
     "text": [
      "\n",
      "Epoch 00018: val_f1 did not improve from 0.99166\n"
     ]
    },
    {
     "data": {
      "application/vnd.jupyter.widget-view+json": {
       "model_id": "",
       "version_major": 2,
       "version_minor": 0
      },
      "text/plain": [
       "HBox(children=(IntProgress(value=0, description='Epoch 18', max=20229, style=ProgressStyle(description_width='…"
      ]
     },
     "metadata": {},
     "output_type": "display_data"
    },
    {
     "name": "stdout",
     "output_type": "stream",
     "text": [
      "\n",
      "Epoch 00019: val_f1 did not improve from 0.99166\n"
     ]
    },
    {
     "data": {
      "application/vnd.jupyter.widget-view+json": {
       "model_id": "",
       "version_major": 2,
       "version_minor": 0
      },
      "text/plain": [
       "HBox(children=(IntProgress(value=0, description='Epoch 19', max=20229, style=ProgressStyle(description_width='…"
      ]
     },
     "metadata": {},
     "output_type": "display_data"
    },
    {
     "name": "stdout",
     "output_type": "stream",
     "text": [
      "\n",
      "Epoch 00020: val_f1 did not improve from 0.99166\n"
     ]
    }
   ],
   "source": [
    "from keras.callbacks import ModelCheckpoint\n",
    "from keras_tqdm import TQDMNotebookCallback\n",
    "\n",
    "def create_model(input_layer_units=256, hidden_layers=1, dropout=0.375, optimizer='adam'):\n",
    "    model = Sequential()\n",
    "    model.add(Dense(input_layer_units, input_dim=data['x_train'].shape[1], activation='relu'))\n",
    "    model.add(Dropout(dropout))\n",
    "    model.add(Dense(128,  activation='relu'))\n",
    "    model.add(Dropout(dropout))\n",
    "    model.add(Dense(1,  activation='sigmoid'))\n",
    "    model.compile(loss='binary_crossentropy', optimizer=optimizer, metrics=[precision, recall, f1, accuracy])\n",
    "    return model\n",
    "\n",
    "model = KerasClassifier(build_fn=create_model, epochs=20, batch_size=64, verbose=0)\n",
    "\n",
    "checkpoint = ModelCheckpoint('keras_tf_idf_model', monitor='val_f1', verbose=1, save_best_only=True, mode='max')\n",
    "\n",
    "train_performance=model.fit(data['x_train'], data['y_train'],\n",
    "              batch_size=64,\n",
    "              epochs=20,\n",
    "              verbose = 0,\n",
    "              callbacks=[checkpoint,TQDMNotebookCallback()],\n",
    "              validation_data=(data['x_test'], data['y_test']))"
   ]
  },
  {
   "cell_type": "markdown",
   "metadata": {},
   "source": [
    "## Learning Curves - Precision-Recall Curves"
   ]
  },
  {
   "cell_type": "markdown",
   "metadata": {},
   "source": [
    "#### Baseline Classifier"
   ]
  },
  {
   "cell_type": "code",
   "execution_count": 17,
   "metadata": {},
   "outputs": [
    {
     "name": "stdout",
     "output_type": "stream",
     "text": [
      "train f1-score: 0.6779062928837484\n",
      "test f1-score: 0.6779062928837484\n",
      "\n",
      "test data confusion matrix\n"
     ]
    },
    {
     "data": {
      "text/html": [
       "<div>\n",
       "<style scoped>\n",
       "    .dataframe tbody tr th:only-of-type {\n",
       "        vertical-align: middle;\n",
       "    }\n",
       "\n",
       "    .dataframe tbody tr th {\n",
       "        vertical-align: top;\n",
       "    }\n",
       "\n",
       "    .dataframe thead th {\n",
       "        text-align: right;\n",
       "    }\n",
       "</style>\n",
       "<table border=\"1\" class=\"dataframe\">\n",
       "  <thead>\n",
       "    <tr style=\"text-align: right;\">\n",
       "      <th>Predicted</th>\n",
       "      <th>1</th>\n",
       "    </tr>\n",
       "    <tr>\n",
       "      <th>True</th>\n",
       "      <th></th>\n",
       "    </tr>\n",
       "  </thead>\n",
       "  <tbody>\n",
       "    <tr>\n",
       "      <th>0</th>\n",
       "      <td>3286</td>\n",
       "    </tr>\n",
       "    <tr>\n",
       "      <th>1</th>\n",
       "      <td>3458</td>\n",
       "    </tr>\n",
       "  </tbody>\n",
       "</table>\n",
       "</div>"
      ],
      "text/plain": [
       "Predicted     1\n",
       "True           \n",
       "0          3286\n",
       "1          3458"
      ]
     },
     "metadata": {},
     "output_type": "display_data"
    }
   ],
   "source": [
    "from sklearn.metrics import f1_score, accuracy_score, recall_score, precision_score, auc, precision_recall_curve\n",
    "from sklearn.dummy import DummyClassifier\n",
    "from sklearn.model_selection import ShuffleSplit, learning_curve\n",
    "\n",
    "clf=DummyClassifier(strategy='most_frequent')\n",
    "predictions = clf.fit(data['x_train'], data['y_train']).predict(data['x_test'])\n",
    "print(\"train f1-score:\",f1_score(data['y_test'],predictions))\n",
    "\n",
    "predictions_test = clf.predict(data['x_test'])\n",
    "print(\"test f1-score:\",f1_score(data['y_test'], predictions_test))\n",
    "print()\n",
    "print(\"test data confusion matrix\")\n",
    "y_true = pd.Series(data['y_test'], name='True')\n",
    "y_pred = pd.Series(predictions_test, name='Predicted')\n",
    "display(pd.crosstab(y_true, y_pred))"
   ]
  },
  {
   "cell_type": "code",
   "execution_count": 18,
   "metadata": {},
   "outputs": [
    {
     "data": {
      "image/png": "[encoded data removed]",
      "text/plain": [
       "<Figure size 864x432 with 1 Axes>"
      ]
     },
     "metadata": {
      "needs_background": "light"
     },
     "output_type": "display_data"
    }
   ],
   "source": [
    "def plot_learning_curve(estimator, title, X, y, ylim=None, cv=None,\n",
    "                        n_jobs=1, train_sizes=np.linspace(.1, 1.0, 5)):\n",
    "   \n",
    "    plt.figure(figsize=(12, 6))\n",
    "    plt.title('Learning Curves (%s)' % (title))\n",
    "    if ylim is not None:\n",
    "        plt.ylim(*ylim)\n",
    "    plt.xlabel(\"Training examples\")\n",
    "    plt.ylabel(\"F1-score\")\n",
    "    train_sizes, train_scores, test_scores = learning_curve(\n",
    "        estimator, X, y, cv=cv, n_jobs=n_jobs, scoring='f1', train_sizes=train_sizes, verbose=0)\n",
    "    \n",
    "    \n",
    "    train_scores_mean = np.mean(train_scores, axis=1)\n",
    "    train_scores_std = np.std(train_scores, axis=1)\n",
    "    test_scores_mean = np.mean(test_scores, axis=1)\n",
    "    test_scores_std = np.std(test_scores, axis=1)\n",
    "    \n",
    "    plt.grid()\n",
    "\n",
    "    plt.fill_between(train_sizes, train_scores_mean - train_scores_std,\n",
    "                     train_scores_mean + train_scores_std, alpha=0.1,\n",
    "                     color=\"b\")\n",
    "    plt.fill_between(train_sizes, test_scores_mean - test_scores_std,\n",
    "                     test_scores_mean + test_scores_std, alpha=0.1, color=\"orange\")\n",
    "    plt.plot(train_sizes, train_scores_mean, 'o-', color=\"b\",\n",
    "             label=\"Training score\")\n",
    "    plt.plot(train_sizes, test_scores_mean, 'o-', color=\"orange\",\n",
    "             label=\"Cross-validation score\")\n",
    "    \n",
    "    train_sizes, train_scores, test_scores = learning_curve(\n",
    "    DummyClassifier(strategy='most_frequent'), X, y, cv=cv, n_jobs=n_jobs, scoring='f1', train_sizes=train_sizes)\n",
    "\n",
    "    train_scores_mean = np.mean(train_scores, axis=1)\n",
    "    train_scores_std = np.std(train_scores, axis=1)\n",
    "    test_scores_mean = np.mean(test_scores, axis=1)\n",
    "    test_scores_std = np.std(test_scores, axis=1)\n",
    "    \n",
    "    plt.plot(train_sizes, train_scores_mean, 'o-', color=\"r\",\n",
    "             label=\"Baseline score\")\n",
    "    plt.plot(train_sizes, test_scores_mean, 'o-', color=\"green\", \n",
    "             label=\"Cross-validation Baseline score\")\n",
    "\n",
    "    plt.legend(loc=\"lower right\")\n",
    "    return plt\n",
    "\n",
    "cv = ShuffleSplit(n_splits=5, test_size=0.2, random_state=0)\n",
    "plot_learning_curve(model, 'MLP Classifier', data['x_train'], data['y_train'], ylim=(0.5, 1.01), cv=cv, n_jobs=1)\n",
    "plt.show()"
   ]
  },
  {
   "cell_type": "code",
   "execution_count": 19,
   "metadata": {},
   "outputs": [
    {
     "data": {
      "image/png": "[encoded data removed]",
      "text/plain": [
       "<Figure size 864x432 with 1 Axes>"
      ]
     },
     "metadata": {
      "needs_background": "light"
     },
     "output_type": "display_data"
    }
   ],
   "source": [
    "np.seterr(all='ignore')\n",
    "    \n",
    "pred = model.predict(data['x_test'])\n",
    "precision, recall, thresholds = precision_recall_curve(data['y_test'], pred)\n",
    "area = auc(recall, precision)\n",
    "\n",
    "plt.figure(figsize=(12, 6))\n",
    "plt.plot(recall, precision, label='Model Precision-Recall curve')\n",
    "\n",
    "pred = DummyClassifier(strategy='most_frequent').fit(data['x_train'], data['y_train']).predict(data['x_test'])\n",
    "precision, recall, thresholds = precision_recall_curve(data['y_test'], pred)\n",
    "\n",
    "plt.plot(recall, precision, label='Baseline Precision-Recall curve')\n",
    "plt.grid()\n",
    "plt.xlabel('Recall')\n",
    "plt.ylabel('Precision')\n",
    "plt.ylim([0.0, 1.05])\n",
    "plt.xlim([0.0, 1.0])\n",
    "plt.title('Precision-Recall %s: AUC=%0.2f' % ('MLP Classifier',area))\n",
    "plt.legend(loc=\"lower left\")\n",
    "plt.show()"
   ]
  },
  {
   "cell_type": "markdown",
   "metadata": {},
   "source": [
    "## Checking the misclassified results"
   ]
  },
  {
   "cell_type": "code",
   "execution_count": 20,
   "metadata": {},
   "outputs": [
    {
     "data": {
      "text/plain": [
       "(array([ 171,  244,  262,  296,  548,  688,  712,  844,  877,  892,  901,\n",
       "        1024, 1123, 1271, 1302, 1308, 1358, 1393, 1613, 1618, 1619, 1896,\n",
       "        1904, 2160, 2197, 2368, 3046, 3170, 3195, 3392, 3450, 3463, 3553,\n",
       "        3875, 4055, 4134, 4277, 4306, 4425, 4511, 4515, 4634, 4731, 4771,\n",
       "        4951, 5058, 5180, 5276, 5446, 5537, 5552, 5678, 5691, 5750, 5835,\n",
       "        5925, 6158, 6186, 6202, 6295, 6315, 6452, 6462, 6597], dtype=int64),)"
      ]
     },
     "execution_count": 21,
     "metadata": {},
     "output_type": "execute_result"
    }
   ],
   "source": [
    "misclassifications = np.nonzero(model.predict(data['x_test']).reshape((-1,)) != data['y_test'])\n",
    "misclassifications"
   ]
  },
  {
   "cell_type": "code",
   "execution_count": 22,
   "metadata": {},
   "outputs": [
    {
     "name": "stdout",
     "output_type": "stream",
     "text": [
      "True Email Class: Ham\n",
      "Subject: how bout this one . ....\n",
      "\n",
      "True Email Class: Spam\n",
      "Subject: top brand new products directly from the manufactor ! ....\n",
      "\n",
      "True Email Class: Spam\n",
      "Subject: re : your document your document is attached .....\n",
      "\n",
      "True Email Class: Ham\n",
      "Subject: fw : computers happy holidays ! bonnie hitschel 210 - 283 - 2456 > subject : computers > > dear tech support , > > last year i upgraded from boyfriend 5 . 0 to husband 1 . 0 and noticed a > slowdown in the performance of flower and jewelry applications that had > operated flawlessly under boyfriend 5 . 0 . in addition , husband 1 . 0 > uninstalled many other valuable programs , such as romance 9 . 9 , and > installed > undesirable programs such as nfl 5 . 0 and nba 3 . 0 . > > conversation 8 . 0 no longer runs and housecleaning 2 . 6 simply crashes > the system . i ' ve tried running nagging 5 . 3 to fix these problems , but to > no avail . what can i do ? > > desperate > > > > - - - - - - - - - - - - - - - - - - - - - - - - - - - - - - - - - - - - - - - - - - - - - - - - - - - - - - - - - - - - - - - - - - - - - > > dear desperate , > > first , keep in mind that boyfriend 5 . 0 is an entertainment package , > while husband 1 . 0 is an operating system . install tears 6 . 2 and enter the > command . > > husband 1 . 0 should then automatically run the applications guilty 3 . 0 and > flowers 7 . 0 . but remember , overuse can cause husband 1 . 0 to default to > grumpy silence 2 . 5 , happy hour 7 . 0 , or beer 6 . 1 . beer 6 . 1 is a very bad > program that will create snoring loudly . wav files . > > do not install mother - in law 1 . 0 or reinstall another boyfriend > program . these are not supported applications and will crash husband 1 . 0 . > > in summary , husband 1 . 0 is a great program , but it does have a > limited memory and cannot learn new applications quickly . you might > consider > buying additional software to improve performance . i personally recommend > hot food 3 . 0 and lingerie 6 . 9 . > > good luck . >....\n",
      "\n",
      "True Email Class: Spam\n",
      "Subject: newsweek pc - great computer deals ....\n",
      "\n"
     ]
    }
   ],
   "source": [
    "import random\n",
    "\n",
    "def get_email_from_dataset(index_pos):\n",
    "    print('True Email Class: ' + test.iloc[index_pos]['label'])\n",
    "    print(test.iloc[index_pos]['text'][:2000] + '....')\n",
    "    print()\n",
    "    \n",
    "for index in random.sample(list(misclassifications[0]),k=5):\n",
    "    get_email_from_dataset(index)"
   ]
  },
  {
   "cell_type": "code",
   "execution_count": null,
   "metadata": {},
   "outputs": [],
   "source": []
  }
 ],
 "metadata": {
  "kernelspec": {
   "display_name": "Python 3",
   "language": "python",
   "name": "python3"
  },
  "language_info": {
   "codemirror_mode": {
    "name": "ipython",
    "version": 3
   },
   "file_extension": ".py",
   "mimetype": "text/x-python",
   "name": "python",
   "nbconvert_exporter": "python",
   "pygments_lexer": "ipython3",
   "version": "3.6.7"
  }
 },
 "nbformat": 4,
 "nbformat_minor": 2
}
